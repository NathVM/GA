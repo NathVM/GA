{
  "nbformat": 4,
  "nbformat_minor": 0,
  "metadata": {
    "colab": {
      "provenance": [],
      "include_colab_link": true
    },
    "kernelspec": {
      "name": "python3",
      "display_name": "Python 3"
    },
    "language_info": {
      "name": "python"
    }
  },
  "cells": [
    {
      "cell_type": "markdown",
      "metadata": {
        "id": "view-in-github",
        "colab_type": "text"
      },
      "source": [
        "<a href=\"https://colab.research.google.com/github/NathVM/GA/blob/main/NXGraph.ipynb\" target=\"_parent\"><img src=\"https://colab.research.google.com/assets/colab-badge.svg\" alt=\"Open In Colab\"/></a>"
      ]
    },
    {
      "cell_type": "markdown",
      "source": [
        "# Measuring performance of Graph Analytics Algorithms using NetworkX graphs"
      ],
      "metadata": {
        "id": "XNGVCIwM4crI"
      }
    },
    {
      "cell_type": "markdown",
      "source": [
        "Imports : "
      ],
      "metadata": {
        "id": "2HbF9PLLV8co"
      }
    },
    {
      "cell_type": "code",
      "execution_count": 13,
      "metadata": {
        "id": "YGay8j57xrn0"
      },
      "outputs": [],
      "source": [
        "import networkx as nx\n",
        "import pandas as pd\n",
        "import timeit"
      ]
    },
    {
      "cell_type": "markdown",
      "source": [
        "Dataset: \n",
        "\n",
        "https://networkrepository.com/TWITTER-Real-Graph-Partial.php\n",
        "\n",
        "Shared in the google drive : \n",
        "\n",
        "https://drive.google.com/drive/folders/113gZK1io1MZGogAULYoBdrlEUHyJcxRh?usp=sharing \n",
        "\n",
        "---\n",
        "\n"
      ],
      "metadata": {
        "id": "zgAuDrczVfoU"
      }
    },
    {
      "cell_type": "code",
      "source": [
        "from google.colab import drive\n",
        "drive.mount('/content/drive')\n",
        "\n",
        "# Map the shared folder \n",
        "# https://drive.google.com/drive/folders/113gZK1io1MZGogAULYoBdrlEUHyJcxRh?usp=sharing \n",
        "# to your google drive and modify the file path accordingly\n",
        "file = \"/content/drive/MyDrive/Dataset/share/GA/TWITTER-Real-Graph-Partial.edges\"\n",
        "df = pd.read_csv(file)\n",
        "df.rename(columns = {'1':'source', '2':'target'}, inplace = True)\n",
        "print(df.head(100))"
      ],
      "metadata": {
        "id": "HWxZcPiSVhPw",
        "colab": {
          "base_uri": "https://localhost:8080/"
        },
        "outputId": "367fdf3a-2549-4618-ba5d-4157a619815c"
      },
      "execution_count": 14,
      "outputs": [
        {
          "output_type": "stream",
          "name": "stdout",
          "text": [
            "Drive already mounted at /content/drive; to attempt to forcibly remount, call drive.mount(\"/content/drive\", force_remount=True).\n",
            "    source  target\n",
            "0        2       1\n",
            "1        3       4\n",
            "2        4       3\n",
            "3        3       2\n",
            "4        2       3\n",
            "..     ...     ...\n",
            "95      52      56\n",
            "96      56      52\n",
            "97      53      57\n",
            "98      57      53\n",
            "99      53      59\n",
            "\n",
            "[100 rows x 2 columns]\n"
          ]
        }
      ]
    },
    {
      "cell_type": "markdown",
      "source": [
        "Create graph: \n",
        "\n",
        "---\n",
        "\n"
      ],
      "metadata": {
        "id": "KupWbovpWJq7"
      }
    },
    {
      "cell_type": "code",
      "source": [
        "g = nx.from_pandas_edgelist(df,'source','target')"
      ],
      "metadata": {
        "id": "xBenyW-_WPVL"
      },
      "execution_count": null,
      "outputs": []
    },
    {
      "cell_type": "markdown",
      "source": [],
      "metadata": {
        "id": "680iqXgSWRDs"
      }
    },
    {
      "cell_type": "markdown",
      "source": [
        "**Path Analytics:**"
      ],
      "metadata": {
        "id": "hiImgJS9XR0f"
      }
    },
    {
      "cell_type": "code",
      "source": [
        "source = 357908\n",
        "start_time = timeit.default_timer()\n",
        "for target in g.nodes():\n",
        "    if target != source:\n",
        "      try: \n",
        "        shortest_paths = nx.all_shortest_paths(g, source, target)\n",
        "        #print(f\"Shortest paths from {source} to {target}: {list(shortest_paths)}\")\n",
        "      except nx.NetworkXNoPath: \n",
        "        pass \n",
        "      \n",
        "elapsed = timeit.default_timer() - start_time\n",
        "print(\"Time taken for nx.all_shortest_paths = \", elapsed, \"seconds\")"
      ],
      "metadata": {
        "id": "gr8muUk_Xhoq",
        "outputId": "8463d50f-c22f-4a75-d91d-5d71296615a4",
        "colab": {
          "base_uri": "https://localhost:8080/"
        }
      },
      "execution_count": 16,
      "outputs": [
        {
          "output_type": "stream",
          "name": "stdout",
          "text": [
            "Time taken for nx.all_shortest_paths =  3.2729714499998863 seconds\n"
          ]
        }
      ]
    },
    {
      "cell_type": "markdown",
      "source": [
        "Time taken for SSSP =  3.2729714499998863 seconds"
      ],
      "metadata": {
        "id": "BaRfN2xLj_p4"
      }
    },
    {
      "cell_type": "markdown",
      "source": [
        "**Centrality Analytics:**"
      ],
      "metadata": {
        "id": "iolt9DNFXR8v"
      }
    },
    {
      "cell_type": "code",
      "source": [
        "start_time = timeit.default_timer()\n",
        "\n",
        "degree_centrality = nx.degree_centrality(g) #dictionary for every nodes \n",
        "elapsed = timeit.default_timer() - start_time\n",
        "print(\"Time Taken for degree centrality : \", elapsed)"
      ],
      "metadata": {
        "id": "SwpdmjDwXiJD"
      },
      "execution_count": null,
      "outputs": []
    },
    {
      "cell_type": "markdown",
      "source": [
        "Time Taken for degree centrality :  0.3176729679107666"
      ],
      "metadata": {
        "id": "3prA9PdPhowp"
      }
    },
    {
      "cell_type": "code",
      "source": [
        "start_time = timeit.default_timer()\n",
        "\n",
        "closeness_centrality = nx.closeness_centrality(g)\n",
        "elapsed = timeit.default_timer() - start_time\n",
        "print(\"Time Taken for closeness centrality : \", elapsed)"
      ],
      "metadata": {
        "id": "fiAyRJu9h2AW"
      },
      "execution_count": null,
      "outputs": []
    },
    {
      "cell_type": "markdown",
      "source": [
        "Time Taken for closeness centrality :  5.306373834609985"
      ],
      "metadata": {
        "id": "AHIoqXjQiC6f"
      }
    },
    {
      "cell_type": "code",
      "source": [
        "start_time = timeit.default_timer()\n",
        "\n",
        "betweenness_centrality = nx.betweenness_centrality(g)\n",
        "elapsed = timeit.default_timer() - start_time\n",
        "print(\"Time Taken for between centrality : \", elapsed)"
      ],
      "metadata": {
        "id": "tnJacpAXiHh_"
      },
      "execution_count": null,
      "outputs": []
    },
    {
      "cell_type": "markdown",
      "source": [
        "Time Taken for between centrality :  Timeout occurred running in Colab."
      ],
      "metadata": {
        "id": "aj4H6eCWiltA"
      }
    },
    {
      "cell_type": "markdown",
      "source": [
        "**Community Analytics:**"
      ],
      "metadata": {
        "id": "M3YDPdejXSFI"
      }
    },
    {
      "cell_type": "code",
      "source": [
        "start_time = timeit.default_timer()\n",
        "num_triangles = nx.triangles(g)\n",
        "elapsed = timeit.default_timer() - start_time\n",
        "print(\"Time taken for nx.triangles = \", elapsed, \"seconds\")\n",
        "random_node = 14\n",
        "print(\"Number of triangles at random node [\", random_node , \"] = \", num_triangles.get(random_node))"
      ],
      "metadata": {
        "id": "dPiuPZnLtV6A"
      },
      "execution_count": null,
      "outputs": []
    },
    {
      "cell_type": "markdown",
      "source": [
        "Time taken for nx.triangles =  5.03612642600001 seconds\n",
        "\n",
        "Number of triangles at random node [ 14 ] =  2"
      ],
      "metadata": {
        "id": "3gBSOoFd4adU"
      }
    },
    {
      "cell_type": "code",
      "source": [
        "start_time = timeit.default_timer()\n",
        "clustering_coeff = nx.clustering(g)\n",
        "elapsed = timeit.default_timer() - start_time\n",
        "print(\"Time taken for nx.clustering = \", elapsed, \"seconds\")\n",
        "random_node = 51\n",
        "print(\"Clustring coefficient of random node [\", random_node , \"] = \", clustering_coeff.get(random_node))"
      ],
      "metadata": {
        "id": "XXt6B19JrUbR"
      },
      "execution_count": null,
      "outputs": []
    },
    {
      "cell_type": "markdown",
      "source": [
        "Time taken for nx.clustering =  6.657467489999817 seconds\n",
        "\n",
        "Clustring coefficient of random node [ 51 ] =  0.42857142857142855"
      ],
      "metadata": {
        "id": "Ez_Bsf7P4df4"
      }
    },
    {
      "cell_type": "code",
      "source": [
        "start_time = timeit.default_timer()\n",
        "communities = nx_comm.louvain_communities(g)\n",
        "elapsed = timeit.default_timer() - start_time\n",
        "print(\"Time taken for nx_comm.louvain_communities = \", elapsed, \"seconds\")\n",
        "print(\"No. of communities identified = \", len(communities))"
      ],
      "metadata": {
        "id": "a5TQdbVaXiuC"
      },
      "execution_count": null,
      "outputs": []
    },
    {
      "cell_type": "markdown",
      "source": [
        "Time taken for nx_comm.louvain_communities =  60.146344770999804 seconds\n",
        "\n",
        "No. of communities identified =  147179"
      ],
      "metadata": {
        "id": "BHZK_AGx4gtp"
      }
    },
    {
      "cell_type": "markdown",
      "source": [
        "![image.png](data:image/png;base64,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)"
      ],
      "metadata": {
        "id": "aTHcwK3ZkIQu"
      }
    }
  ]
}