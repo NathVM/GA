{
  "nbformat": 4,
  "nbformat_minor": 0,
  "metadata": {
    "colab": {
      "provenance": [],
      "include_colab_link": true
    },
    "kernelspec": {
      "name": "python3",
      "display_name": "Python 3"
    },
    "language_info": {
      "name": "python"
    }
  },
  "cells": [
    {
      "cell_type": "markdown",
      "metadata": {
        "id": "view-in-github",
        "colab_type": "text"
      },
      "source": [
        "<a href=\"https://colab.research.google.com/github/NathVM/GA/blob/main/NXGraph.ipynb\" target=\"_parent\"><img src=\"https://colab.research.google.com/assets/colab-badge.svg\" alt=\"Open In Colab\"/></a>"
      ]
    },
    {
      "cell_type": "markdown",
      "source": [
        "# Measuring performance of Graph Analytics Algorithms using NetworkX graphs"
      ],
      "metadata": {
        "id": "XNGVCIwM4crI"
      }
    },
    {
      "cell_type": "markdown",
      "source": [
        "Imports : "
      ],
      "metadata": {
        "id": "2HbF9PLLV8co"
      }
    },
    {
      "cell_type": "code",
      "execution_count": 2,
      "metadata": {
        "id": "YGay8j57xrn0"
      },
      "outputs": [],
      "source": [
        "import networkx as nx\n",
        "import pandas as pd\n",
        "import timeit"
      ]
    },
    {
      "cell_type": "markdown",
      "source": [
        "Dataset: \n",
        "\n",
        "https://networkrepository.com/TWITTER-Real-Graph-Partial.php\n",
        "\n",
        "Shared in the google drive : \n",
        "\n",
        "https://drive.google.com/drive/folders/113gZK1io1MZGogAULYoBdrlEUHyJcxRh?usp=sharing \n",
        "\n",
        "---\n",
        "\n"
      ],
      "metadata": {
        "id": "zgAuDrczVfoU"
      }
    },
    {
      "cell_type": "code",
      "source": [
        "from google.colab import drive\n",
        "drive.mount('/content/drive')\n",
        "\n",
        "# Map the shared folder \n",
        "# https://drive.google.com/drive/folders/113gZK1io1MZGogAULYoBdrlEUHyJcxRh?usp=sharing \n",
        "# to your google drive and modify the file path accordingly\n",
        "file = \"/content/drive/MyDrive/Dataset/share/GA/TWITTER-Real-Graph-Partial.edges\"\n",
        "df = pd.read_csv(file)\n",
        "df.rename(columns = {'1':'source', '2':'target'}, inplace = True)\n",
        "print(df.head(100))"
      ],
      "metadata": {
        "id": "HWxZcPiSVhPw",
        "colab": {
          "base_uri": "https://localhost:8080/",
          "height": 395
        },
        "outputId": "a573d031-41ac-4de5-da78-28533c3d4411"
      },
      "execution_count": 3,
      "outputs": [
        {
          "output_type": "error",
          "ename": "MessageError",
          "evalue": "ignored",
          "traceback": [
            "\u001b[0;31m---------------------------------------------------------------------------\u001b[0m",
            "\u001b[0;31mMessageError\u001b[0m                              Traceback (most recent call last)",
            "\u001b[0;32m<ipython-input-3-9bcab26fa33b>\u001b[0m in \u001b[0;36m<cell line: 2>\u001b[0;34m()\u001b[0m\n\u001b[1;32m      1\u001b[0m \u001b[0;32mfrom\u001b[0m \u001b[0mgoogle\u001b[0m\u001b[0;34m.\u001b[0m\u001b[0mcolab\u001b[0m \u001b[0;32mimport\u001b[0m \u001b[0mdrive\u001b[0m\u001b[0;34m\u001b[0m\u001b[0;34m\u001b[0m\u001b[0m\n\u001b[0;32m----> 2\u001b[0;31m \u001b[0mdrive\u001b[0m\u001b[0;34m.\u001b[0m\u001b[0mmount\u001b[0m\u001b[0;34m(\u001b[0m\u001b[0;34m'/content/drive'\u001b[0m\u001b[0;34m)\u001b[0m\u001b[0;34m\u001b[0m\u001b[0;34m\u001b[0m\u001b[0m\n\u001b[0m\u001b[1;32m      3\u001b[0m \u001b[0;34m\u001b[0m\u001b[0m\n\u001b[1;32m      4\u001b[0m \u001b[0;31m# Map the shared folder\u001b[0m\u001b[0;34m\u001b[0m\u001b[0;34m\u001b[0m\u001b[0m\n\u001b[1;32m      5\u001b[0m \u001b[0;31m# https://drive.google.com/drive/folders/113gZK1io1MZGogAULYoBdrlEUHyJcxRh?usp=sharing\u001b[0m\u001b[0;34m\u001b[0m\u001b[0;34m\u001b[0m\u001b[0m\n",
            "\u001b[0;32m/usr/local/lib/python3.9/dist-packages/google/colab/drive.py\u001b[0m in \u001b[0;36mmount\u001b[0;34m(mountpoint, force_remount, timeout_ms, readonly)\u001b[0m\n\u001b[1;32m    101\u001b[0m \u001b[0;32mdef\u001b[0m \u001b[0mmount\u001b[0m\u001b[0;34m(\u001b[0m\u001b[0mmountpoint\u001b[0m\u001b[0;34m,\u001b[0m \u001b[0mforce_remount\u001b[0m\u001b[0;34m=\u001b[0m\u001b[0;32mFalse\u001b[0m\u001b[0;34m,\u001b[0m \u001b[0mtimeout_ms\u001b[0m\u001b[0;34m=\u001b[0m\u001b[0;36m120000\u001b[0m\u001b[0;34m,\u001b[0m \u001b[0mreadonly\u001b[0m\u001b[0;34m=\u001b[0m\u001b[0;32mFalse\u001b[0m\u001b[0;34m)\u001b[0m\u001b[0;34m:\u001b[0m\u001b[0;34m\u001b[0m\u001b[0;34m\u001b[0m\u001b[0m\n\u001b[1;32m    102\u001b[0m   \u001b[0;34m\"\"\"Mount your Google Drive at the specified mountpoint path.\"\"\"\u001b[0m\u001b[0;34m\u001b[0m\u001b[0;34m\u001b[0m\u001b[0m\n\u001b[0;32m--> 103\u001b[0;31m   return _mount(\n\u001b[0m\u001b[1;32m    104\u001b[0m       \u001b[0mmountpoint\u001b[0m\u001b[0;34m,\u001b[0m\u001b[0;34m\u001b[0m\u001b[0;34m\u001b[0m\u001b[0m\n\u001b[1;32m    105\u001b[0m       \u001b[0mforce_remount\u001b[0m\u001b[0;34m=\u001b[0m\u001b[0mforce_remount\u001b[0m\u001b[0;34m,\u001b[0m\u001b[0;34m\u001b[0m\u001b[0;34m\u001b[0m\u001b[0m\n",
            "\u001b[0;32m/usr/local/lib/python3.9/dist-packages/google/colab/drive.py\u001b[0m in \u001b[0;36m_mount\u001b[0;34m(mountpoint, force_remount, timeout_ms, ephemeral, readonly)\u001b[0m\n\u001b[1;32m    130\u001b[0m   )\n\u001b[1;32m    131\u001b[0m   \u001b[0;32mif\u001b[0m \u001b[0mephemeral\u001b[0m\u001b[0;34m:\u001b[0m\u001b[0;34m\u001b[0m\u001b[0;34m\u001b[0m\u001b[0m\n\u001b[0;32m--> 132\u001b[0;31m     _message.blocking_request(\n\u001b[0m\u001b[1;32m    133\u001b[0m         \u001b[0;34m'request_auth'\u001b[0m\u001b[0;34m,\u001b[0m \u001b[0mrequest\u001b[0m\u001b[0;34m=\u001b[0m\u001b[0;34m{\u001b[0m\u001b[0;34m'authType'\u001b[0m\u001b[0;34m:\u001b[0m \u001b[0;34m'dfs_ephemeral'\u001b[0m\u001b[0;34m}\u001b[0m\u001b[0;34m,\u001b[0m \u001b[0mtimeout_sec\u001b[0m\u001b[0;34m=\u001b[0m\u001b[0;32mNone\u001b[0m\u001b[0;34m\u001b[0m\u001b[0;34m\u001b[0m\u001b[0m\n\u001b[1;32m    134\u001b[0m     )\n",
            "\u001b[0;32m/usr/local/lib/python3.9/dist-packages/google/colab/_message.py\u001b[0m in \u001b[0;36mblocking_request\u001b[0;34m(request_type, request, timeout_sec, parent)\u001b[0m\n\u001b[1;32m    175\u001b[0m       \u001b[0mrequest_type\u001b[0m\u001b[0;34m,\u001b[0m \u001b[0mrequest\u001b[0m\u001b[0;34m,\u001b[0m \u001b[0mparent\u001b[0m\u001b[0;34m=\u001b[0m\u001b[0mparent\u001b[0m\u001b[0;34m,\u001b[0m \u001b[0mexpect_reply\u001b[0m\u001b[0;34m=\u001b[0m\u001b[0;32mTrue\u001b[0m\u001b[0;34m\u001b[0m\u001b[0;34m\u001b[0m\u001b[0m\n\u001b[1;32m    176\u001b[0m   )\n\u001b[0;32m--> 177\u001b[0;31m   \u001b[0;32mreturn\u001b[0m \u001b[0mread_reply_from_input\u001b[0m\u001b[0;34m(\u001b[0m\u001b[0mrequest_id\u001b[0m\u001b[0;34m,\u001b[0m \u001b[0mtimeout_sec\u001b[0m\u001b[0;34m)\u001b[0m\u001b[0;34m\u001b[0m\u001b[0;34m\u001b[0m\u001b[0m\n\u001b[0m",
            "\u001b[0;32m/usr/local/lib/python3.9/dist-packages/google/colab/_message.py\u001b[0m in \u001b[0;36mread_reply_from_input\u001b[0;34m(message_id, timeout_sec)\u001b[0m\n\u001b[1;32m    102\u001b[0m     ):\n\u001b[1;32m    103\u001b[0m       \u001b[0;32mif\u001b[0m \u001b[0;34m'error'\u001b[0m \u001b[0;32min\u001b[0m \u001b[0mreply\u001b[0m\u001b[0;34m:\u001b[0m\u001b[0;34m\u001b[0m\u001b[0;34m\u001b[0m\u001b[0m\n\u001b[0;32m--> 104\u001b[0;31m         \u001b[0;32mraise\u001b[0m \u001b[0mMessageError\u001b[0m\u001b[0;34m(\u001b[0m\u001b[0mreply\u001b[0m\u001b[0;34m[\u001b[0m\u001b[0;34m'error'\u001b[0m\u001b[0;34m]\u001b[0m\u001b[0;34m)\u001b[0m\u001b[0;34m\u001b[0m\u001b[0;34m\u001b[0m\u001b[0m\n\u001b[0m\u001b[1;32m    105\u001b[0m       \u001b[0;32mreturn\u001b[0m \u001b[0mreply\u001b[0m\u001b[0;34m.\u001b[0m\u001b[0mget\u001b[0m\u001b[0;34m(\u001b[0m\u001b[0;34m'data'\u001b[0m\u001b[0;34m,\u001b[0m \u001b[0;32mNone\u001b[0m\u001b[0;34m)\u001b[0m\u001b[0;34m\u001b[0m\u001b[0;34m\u001b[0m\u001b[0m\n\u001b[1;32m    106\u001b[0m \u001b[0;34m\u001b[0m\u001b[0m\n",
            "\u001b[0;31mMessageError\u001b[0m: Error: credential propagation was unsuccessful"
          ]
        }
      ]
    },
    {
      "cell_type": "markdown",
      "source": [
        "Create graph: \n",
        "\n",
        "---\n",
        "\n"
      ],
      "metadata": {
        "id": "KupWbovpWJq7"
      }
    },
    {
      "cell_type": "code",
      "source": [
        "g = nx.from_pandas_edgelist(df,'source','target')"
      ],
      "metadata": {
        "id": "xBenyW-_WPVL"
      },
      "execution_count": null,
      "outputs": []
    },
    {
      "cell_type": "markdown",
      "source": [],
      "metadata": {
        "id": "680iqXgSWRDs"
      }
    },
    {
      "cell_type": "markdown",
      "source": [
        "**Path Analytics:**"
      ],
      "metadata": {
        "id": "hiImgJS9XR0f"
      }
    },
    {
      "cell_type": "code",
      "source": [
        "source = 357908\n",
        "start_time = timeit.default_timer()\n",
        "for target in g.nodes():\n",
        "    if target != source:\n",
        "      try: \n",
        "        shortest_paths = nx.all_shortest_paths(g, source, target)\n",
        "        #print(f\"Shortest paths from {source} to {target}: {list(shortest_paths)}\")\n",
        "      except nx.NetworkXNoPath: \n",
        "        pass \n",
        "      \n",
        "elapsed = timeit.default_timer() - start_time\n",
        "print(\"Time taken for nx.all_shortest_paths = \", elapsed, \"seconds\")\n",
        "\n",
        "\n",
        "start_time = timeit.default_timer()\n",
        "all_pairs_shortest_paths = nx.all_pairs_shortest_path(g)\n",
        "elapsed = timeit.default_timer() - start_time\n",
        "print(\"Time taken for nx.all_pairs_shortest_path = \", elapsed, \"seconds\")\n",
        "#for paths in all_pairs_shortest_paths:\n",
        "  #print(all_pairs_shortest_paths)\n"
      ],
      "metadata": {
        "id": "gr8muUk_Xhoq"
      },
      "execution_count": null,
      "outputs": []
    },
    {
      "cell_type": "markdown",
      "source": [
        "**Centrality Analytics:**"
      ],
      "metadata": {
        "id": "iolt9DNFXR8v"
      }
    },
    {
      "cell_type": "code",
      "source": [
        "start_time = timeit.default_timer()\n",
        "\n",
        "degree_centrality = nx.degree_centrality(g) #dictionary for every nodes \n",
        "elapsed = timeit.default_timer() - start_time\n",
        "print(\"Time Taken for degree centrality : \", elapsed)"
      ],
      "metadata": {
        "id": "SwpdmjDwXiJD"
      },
      "execution_count": null,
      "outputs": []
    },
    {
      "cell_type": "markdown",
      "source": [
        "Time Taken for degree centrality :  0.3176729679107666"
      ],
      "metadata": {
        "id": "3prA9PdPhowp"
      }
    },
    {
      "cell_type": "code",
      "source": [
        "start_time = timeit.default_timer()\n",
        "\n",
        "closeness_centrality = nx.closeness_centrality(g)\n",
        "elapsed = timeit.default_timer() - start_time\n",
        "print(\"Time Taken for closeness centrality : \", elapsed)"
      ],
      "metadata": {
        "id": "fiAyRJu9h2AW"
      },
      "execution_count": null,
      "outputs": []
    },
    {
      "cell_type": "markdown",
      "source": [
        "Time Taken for closeness centrality :  5.306373834609985"
      ],
      "metadata": {
        "id": "AHIoqXjQiC6f"
      }
    },
    {
      "cell_type": "code",
      "source": [
        "start_time = timeit.default_timer()\n",
        "\n",
        "betweenness_centrality = nx.betweenness_centrality(g)\n",
        "elapsed = timeit.default_timer() - start_time\n",
        "print(\"Time Taken for between centrality : \", elapsed)"
      ],
      "metadata": {
        "id": "tnJacpAXiHh_"
      },
      "execution_count": null,
      "outputs": []
    },
    {
      "cell_type": "markdown",
      "source": [
        "Time Taken for between centrality :  Timeout occurred running in Colab."
      ],
      "metadata": {
        "id": "aj4H6eCWiltA"
      }
    },
    {
      "cell_type": "markdown",
      "source": [
        "**Community Analytics:**"
      ],
      "metadata": {
        "id": "M3YDPdejXSFI"
      }
    },
    {
      "cell_type": "code",
      "source": [
        "start_time = timeit.default_timer()\n",
        "num_triangles = nx.triangles(g)\n",
        "elapsed = timeit.default_timer() - start_time\n",
        "print(\"Time taken for nx.triangles = \", elapsed, \"seconds\")\n",
        "random_node = 14\n",
        "print(\"Number of triangles at random node [\", random_node , \"] = \", num_triangles.get(random_node))"
      ],
      "metadata": {
        "id": "dPiuPZnLtV6A"
      },
      "execution_count": null,
      "outputs": []
    },
    {
      "cell_type": "markdown",
      "source": [
        "Time taken for nx.triangles =  5.03612642600001 seconds\n",
        "\n",
        "Number of triangles at random node [ 14 ] =  2"
      ],
      "metadata": {
        "id": "3gBSOoFd4adU"
      }
    },
    {
      "cell_type": "code",
      "source": [
        "start_time = timeit.default_timer()\n",
        "clustering_coeff = nx.clustering(g)\n",
        "elapsed = timeit.default_timer() - start_time\n",
        "print(\"Time taken for nx.clustering = \", elapsed, \"seconds\")\n",
        "random_node = 51\n",
        "print(\"Clustring coefficient of random node [\", random_node , \"] = \", clustering_coeff.get(random_node))"
      ],
      "metadata": {
        "id": "XXt6B19JrUbR"
      },
      "execution_count": null,
      "outputs": []
    },
    {
      "cell_type": "markdown",
      "source": [
        "Time taken for nx.clustering =  6.657467489999817 seconds\n",
        "\n",
        "Clustring coefficient of random node [ 51 ] =  0.42857142857142855"
      ],
      "metadata": {
        "id": "Ez_Bsf7P4df4"
      }
    },
    {
      "cell_type": "code",
      "source": [
        "start_time = timeit.default_timer()\n",
        "communities = nx_comm.louvain_communities(g)\n",
        "elapsed = timeit.default_timer() - start_time\n",
        "print(\"Time taken for nx_comm.louvain_communities = \", elapsed, \"seconds\")\n",
        "print(\"No. of communities identified = \", len(communities))"
      ],
      "metadata": {
        "id": "a5TQdbVaXiuC"
      },
      "execution_count": null,
      "outputs": []
    },
    {
      "cell_type": "markdown",
      "source": [
        "Time taken for nx_comm.louvain_communities =  60.146344770999804 seconds\n",
        "\n",
        "No. of communities identified =  147179"
      ],
      "metadata": {
        "id": "BHZK_AGx4gtp"
      }
    }
  ]
}