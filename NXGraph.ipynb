{
  "nbformat": 4,
  "nbformat_minor": 0,
  "metadata": {
    "colab": {
      "provenance": [],
      "authorship_tag": "ABX9TyMTYad05/S5LFxgjG6FTu8T",
      "include_colab_link": true
    },
    "kernelspec": {
      "name": "python3",
      "display_name": "Python 3"
    },
    "language_info": {
      "name": "python"
    }
  },
  "cells": [
    {
      "cell_type": "markdown",
      "metadata": {
        "id": "view-in-github",
        "colab_type": "text"
      },
      "source": [
        "<a href=\"https://colab.research.google.com/github/NathVM/GA/blob/main/NXGraph.ipynb\" target=\"_parent\"><img src=\"https://colab.research.google.com/assets/colab-badge.svg\" alt=\"Open In Colab\"/></a>"
      ]
    },
    {
      "cell_type": "markdown",
      "source": [
        "# Measuring performance of Graph Analytics Algorithms using NetworkX graphs"
      ],
      "metadata": {
        "id": "XNGVCIwM4crI"
      }
    },
    {
      "cell_type": "markdown",
      "source": [
        "Imports : "
      ],
      "metadata": {
        "id": "2HbF9PLLV8co"
      }
    },
    {
      "cell_type": "code",
      "execution_count": 2,
      "metadata": {
        "id": "YGay8j57xrn0"
      },
      "outputs": [],
      "source": [
        "import networkx as nx\n",
        "import pandas as pd"
      ]
    },
    {
      "cell_type": "markdown",
      "source": [
        "Dataset: \n",
        "\n",
        "https://networkrepository.com/TWITTER-Real-Graph-Partial.php\n",
        "\n",
        "Shared in the google drive : \n",
        "\n",
        "https://drive.google.com/drive/folders/113gZK1io1MZGogAULYoBdrlEUHyJcxRh?usp=sharing \n",
        "\n",
        "---\n",
        "\n"
      ],
      "metadata": {
        "id": "zgAuDrczVfoU"
      }
    },
    {
      "cell_type": "code",
      "source": [
        "from google.colab import drive\n",
        "drive.mount('/content/drive')\n",
        "\n",
        "# Map the shared folder \n",
        "# https://drive.google.com/drive/folders/113gZK1io1MZGogAULYoBdrlEUHyJcxRh?usp=sharing \n",
        "# to your google drive and modify the file path accordingly\n",
        "file = \"/content/drive/MyDrive/Dataset/share/GA/TWITTER-Real-Graph-Partial.edges\"\n",
        "df = pd.read_csv(file)\n",
        "df.rename(columns = {'1':'source', '2':'target'}, inplace = True)\n",
        "print(df.head(100))"
      ],
      "metadata": {
        "id": "HWxZcPiSVhPw",
        "colab": {
          "base_uri": "https://localhost:8080/"
        },
        "outputId": "e09a0dcd-017f-4442-f7b3-a0762939eadd"
      },
      "execution_count": 7,
      "outputs": [
        {
          "output_type": "stream",
          "name": "stdout",
          "text": [
            "Drive already mounted at /content/drive; to attempt to forcibly remount, call drive.mount(\"/content/drive\", force_remount=True).\n",
            "    source  target\n",
            "0        2       1\n",
            "1        3       4\n",
            "2        4       3\n",
            "3        3       2\n",
            "4        2       3\n",
            "..     ...     ...\n",
            "95      52      56\n",
            "96      56      52\n",
            "97      53      57\n",
            "98      57      53\n",
            "99      53      59\n",
            "\n",
            "[100 rows x 2 columns]\n"
          ]
        }
      ]
    },
    {
      "cell_type": "markdown",
      "source": [
        "Create graph: \n",
        "\n",
        "---\n",
        "\n"
      ],
      "metadata": {
        "id": "KupWbovpWJq7"
      }
    },
    {
      "cell_type": "code",
      "source": [
        "df = df.head(100)\n",
        "g = nx.from_pandas_edgelist(df,'source','target')\n",
        "nx.draw(g)"
      ],
      "metadata": {
        "id": "xBenyW-_WPVL",
        "colab": {
          "base_uri": "https://localhost:8080/",
          "height": 516
        },
        "outputId": "d7bd17a3-00ea-4bfe-a1dc-31cca9c20cc9"
      },
      "execution_count": 8,
      "outputs": [
        {
          "output_type": "display_data",
          "data": {
            "text/plain": [
              "<Figure size 640x480 with 1 Axes>"
            ],
            "image/png": "[encoded data removed]"
          },
          "metadata": {}
        }
      ]
    },
    {
      "cell_type": "markdown",
      "source": [],
      "metadata": {
        "id": "680iqXgSWRDs"
      }
    }
  ]
}