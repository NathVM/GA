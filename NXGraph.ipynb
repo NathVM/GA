{
  "nbformat": 4,
  "nbformat_minor": 0,
  "metadata": {
    "colab": {
      "provenance": [],
      "include_colab_link": true
    },
    "kernelspec": {
      "name": "python3",
      "display_name": "Python 3"
    },
    "language_info": {
      "name": "python"
    }
  },
  "cells": [
    {
      "cell_type": "markdown",
      "metadata": {
        "id": "view-in-github",
        "colab_type": "text"
      },
      "source": [
        "<a href=\"https://colab.research.google.com/github/NathVM/GA/blob/main/NXGraph.ipynb\" target=\"_parent\"><img src=\"https://colab.research.google.com/assets/colab-badge.svg\" alt=\"Open In Colab\"/></a>"
      ]
    },
    {
      "cell_type": "markdown",
      "source": [
        "# Measuring performance of Graph Analytics Algorithms using NetworkX graphs"
      ],
      "metadata": {
        "id": "XNGVCIwM4crI"
      }
    },
    {
      "cell_type": "markdown",
      "source": [
        "Imports : "
      ],
      "metadata": {
        "id": "2HbF9PLLV8co"
      }
    },
    {
      "cell_type": "code",
      "execution_count": 2,
      "metadata": {
        "id": "YGay8j57xrn0"
      },
      "outputs": [],
      "source": [
        "import networkx as nx\n",
        "import pandas as pd\n",
        "import timeit"
      ]
    },
    {
      "cell_type": "markdown",
      "source": [
        "Dataset: \n",
        "\n",
        "https://networkrepository.com/TWITTER-Real-Graph-Partial.php\n",
        "\n",
        "Shared in the google drive : \n",
        "\n",
        "https://drive.google.com/drive/folders/113gZK1io1MZGogAULYoBdrlEUHyJcxRh?usp=sharing \n",
        "\n",
        "---\n",
        "\n"
      ],
      "metadata": {
        "id": "zgAuDrczVfoU"
      }
    },
    {
      "cell_type": "code",
      "source": [
        "from google.colab import drive\n",
        "drive.mount('/content/drive')\n",
        "\n",
        "# Map the shared folder \n",
        "# https://drive.google.com/drive/folders/113gZK1io1MZGogAULYoBdrlEUHyJcxRh?usp=sharing \n",
        "# to your google drive and modify the file path accordingly\n",
        "file = \"/content/drive/MyDrive/Dataset/share/GA/TWITTER-Real-Graph-Partial.edges\"\n",
        "df = pd.read_csv(file)\n",
        "df.rename(columns = {'1':'source', '2':'target'}, inplace = True)\n",
        "print(df.head(100))"
      ],
      "metadata": {
        "id": "HWxZcPiSVhPw",
        "colab": {
          "base_uri": "https://localhost:8080/"
        },
        "outputId": "89a9edd3-0661-4f33-c53a-332f7793d3b5"
      },
      "execution_count": 10,
      "outputs": [
        {
          "output_type": "stream",
          "name": "stdout",
          "text": [
            "Drive already mounted at /content/drive; to attempt to forcibly remount, call drive.mount(\"/content/drive\", force_remount=True).\n",
            "    source  target\n",
            "0        2       1\n",
            "1        3       4\n",
            "2        4       3\n",
            "3        3       2\n",
            "4        2       3\n",
            "..     ...     ...\n",
            "95      52      56\n",
            "96      56      52\n",
            "97      53      57\n",
            "98      57      53\n",
            "99      53      59\n",
            "\n",
            "[100 rows x 2 columns]\n"
          ]
        }
      ]
    },
    {
      "cell_type": "markdown",
      "source": [
        "Create graph: \n",
        "\n",
        "---\n",
        "\n"
      ],
      "metadata": {
        "id": "KupWbovpWJq7"
      }
    },
    {
      "cell_type": "code",
      "source": [
        "g = nx.from_pandas_edgelist(df,'source','target')"
      ],
      "metadata": {
        "id": "xBenyW-_WPVL"
      },
      "execution_count": 11,
      "outputs": []
    },
    {
      "cell_type": "markdown",
      "source": [],
      "metadata": {
        "id": "680iqXgSWRDs"
      }
    },
    {
      "cell_type": "markdown",
      "source": [
        "**Path Analytics:**"
      ],
      "metadata": {
        "id": "hiImgJS9XR0f"
      }
    },
    {
      "cell_type": "code",
      "source": [
        "source = 357908\n",
        "start_time = timeit.default_timer()\n",
        "for target in g.nodes():\n",
        "    if target != source:\n",
        "      try: \n",
        "        shortest_paths = nx.all_shortest_paths(g, source, target)\n",
        "        #print(f\"Shortest paths from {source} to {target}: {list(shortest_paths)}\")\n",
        "      except nx.NetworkXNoPath: \n",
        "        pass \n",
        "      \n",
        "elapsed = timeit.default_timer() - start_time\n",
        "print(\"Time taken for nx.all_shortest_paths = \", elapsed, \"seconds\")\n",
        "\n",
        "\n",
        "start_time = timeit.default_timer()\n",
        "all_pairs_shortest_paths = nx.all_pairs_shortest_path(g)\n",
        "elapsed = timeit.default_timer() - start_time\n",
        "print(\"Time taken for nx.all_pairs_shortest_path = \", elapsed, \"seconds\")\n",
        "#for paths in all_pairs_shortest_paths:\n",
        "  #print(all_pairs_shortest_paths)\n"
      ],
      "metadata": {
        "id": "gr8muUk_Xhoq",
        "colab": {
          "base_uri": "https://localhost:8080/"
        },
        "outputId": "2ee3eb2f-3ce1-41fc-ee61-d4444bfec6fa"
      },
      "execution_count": 12,
      "outputs": [
        {
          "output_type": "stream",
          "name": "stdout",
          "text": [
            "Time taken for nx.all_shortest_paths =  3.153005768000014 seconds\n",
            "Time taken for nx.all_pairs_shortest_path =  8.023500004128437e-05 seconds\n"
          ]
        }
      ]
    },
    {
      "cell_type": "markdown",
      "source": [
        "**Centrality Analytics:**"
      ],
      "metadata": {
        "id": "iolt9DNFXR8v"
      }
    },
    {
      "cell_type": "code",
      "source": [],
      "metadata": {
        "id": "SwpdmjDwXiJD"
      },
      "execution_count": null,
      "outputs": []
    },
    {
      "cell_type": "markdown",
      "source": [
        "**Community Analytics:**"
      ],
      "metadata": {
        "id": "M3YDPdejXSFI"
      }
    },
    {
      "cell_type": "code",
      "source": [
        "start_time = timeit.default_timer()\n",
        "num_triangles = nx.triangles(g)\n",
        "elapsed = timeit.default_timer() - start_time\n",
        "print(\"Time taken for nx.triangles = \", elapsed, \"seconds\")\n",
        "random_node = 14\n",
        "print(\"Number of triangles at random node [\", random_node , \"] = \", num_triangles.get(random_node))"
      ],
      "metadata": {
        "id": "dPiuPZnLtV6A"
      },
      "execution_count": null,
      "outputs": []
    },
    {
      "cell_type": "markdown",
      "source": [
        "Time taken for nx.triangles =  5.03612642600001 seconds\n",
        "\n",
        "Number of triangles at random node [ 14 ] =  2"
      ],
      "metadata": {
        "id": "3gBSOoFd4adU"
      }
    },
    {
      "cell_type": "code",
      "source": [
        "start_time = timeit.default_timer()\n",
        "clustering_coeff = nx.clustering(g)\n",
        "elapsed = timeit.default_timer() - start_time\n",
        "print(\"Time taken for nx.clustering = \", elapsed, \"seconds\")\n",
        "random_node = 51\n",
        "print(\"Clustring coefficient of random node [\", random_node , \"] = \", clustering_coeff.get(random_node))"
      ],
      "metadata": {
        "id": "XXt6B19JrUbR"
      },
      "execution_count": null,
      "outputs": []
    },
    {
      "cell_type": "markdown",
      "source": [
        "Time taken for nx.clustering =  6.657467489999817 seconds\n",
        "\n",
        "Clustring coefficient of random node [ 51 ] =  0.42857142857142855"
      ],
      "metadata": {
        "id": "Ez_Bsf7P4df4"
      }
    },
    {
      "cell_type": "code",
      "source": [
        "start_time = timeit.default_timer()\n",
        "communities = nx_comm.louvain_communities(g)\n",
        "elapsed = timeit.default_timer() - start_time\n",
        "print(\"Time taken for nx_comm.louvain_communities = \", elapsed, \"seconds\")\n",
        "print(\"No. of communities identified = \", len(communities))"
      ],
      "metadata": {
        "id": "a5TQdbVaXiuC"
      },
      "execution_count": null,
      "outputs": []
    },
    {
      "cell_type": "markdown",
      "source": [
        "Time taken for nx_comm.louvain_communities =  60.146344770999804 seconds\n",
        "\n",
        "No. of communities identified =  147179"
      ],
      "metadata": {
        "id": "BHZK_AGx4gtp"
      }
    }
  ]
}