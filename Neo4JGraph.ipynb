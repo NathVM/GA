{
  "nbformat": 4,
  "nbformat_minor": 0,
  "metadata": {
    "colab": {
      "provenance": [],
      "include_colab_link": true
    },
    "kernelspec": {
      "name": "python3",
      "display_name": "Python 3"
    },
    "language_info": {
      "name": "python"
    }
  },
  "cells": [
    {
      "cell_type": "markdown",
      "metadata": {
        "id": "view-in-github",
        "colab_type": "text"
      },
      "source": [
        "<a href=\"https://colab.research.google.com/github/NathVM/GA/blob/main/Neo4JGraph.ipynb\" target=\"_parent\"><img src=\"https://colab.research.google.com/assets/colab-badge.svg\" alt=\"Open In Colab\"/></a>"
      ]
    },
    {
      "cell_type": "markdown",
      "source": [
        "# Measuring performance of Graph Analytics Algorithms using Neo4j graphs\n",
        "\n",
        "---\n",
        "\n"
      ],
      "metadata": {
        "id": "WYVsJ5wy3fmK"
      }
    },
    {
      "cell_type": "markdown",
      "source": [
        "Imports:\n",
        "\n",
        "---\n",
        "\n"
      ],
      "metadata": {
        "id": "xyENnxE878Sc"
      }
    },
    {
      "cell_type": "code",
      "source": [
        "!pip install py2neo\n",
        "!pip install neo4j\n",
        "!pip install graphdatascience"
      ],
      "metadata": {
        "colab": {
          "base_uri": "https://localhost:8080/"
        },
        "id": "Facep2vA4mve",
        "outputId": "30950c4f-402a-4cdf-e791-72527d3d1a5c"
      },
      "execution_count": null,
      "outputs": [
        {
          "output_type": "stream",
          "name": "stdout",
          "text": [
            "Looking in indexes: https://pypi.org/simple, https://us-python.pkg.dev/colab-wheels/public/simple/\n",
            "Collecting py2neo\n",
            "  Downloading py2neo-2021.2.3-py2.py3-none-any.whl (177 kB)\n",
            "\u001b[2K     \u001b[90m━━━━━━━━━━━━━━━━━━━━━━━━━━━━━━━━━━━━━━━\u001b[0m \u001b[32m177.0/177.0 KB\u001b[0m \u001b[31m7.8 MB/s\u001b[0m eta \u001b[36m0:00:00\u001b[0m\n",
            "\u001b[?25hRequirement already satisfied: six>=1.15.0 in /usr/local/lib/python3.9/dist-packages (from py2neo) (1.16.0)\n",
            "Requirement already satisfied: packaging in /usr/local/lib/python3.9/dist-packages (from py2neo) (23.0)\n",
            "Requirement already satisfied: urllib3 in /usr/local/lib/python3.9/dist-packages (from py2neo) (1.26.15)\n",
            "Collecting monotonic\n",
            "  Downloading monotonic-1.6-py2.py3-none-any.whl (8.2 kB)\n",
            "Requirement already satisfied: pygments>=2.0.0 in /usr/local/lib/python3.9/dist-packages (from py2neo) (2.14.0)\n",
            "Collecting pansi>=2020.7.3\n",
            "  Downloading pansi-2020.7.3-py2.py3-none-any.whl (10 kB)\n",
            "Requirement already satisfied: certifi in /usr/local/lib/python3.9/dist-packages (from py2neo) (2022.12.7)\n",
            "Collecting interchange~=2021.0.4\n",
            "  Downloading interchange-2021.0.4-py2.py3-none-any.whl (28 kB)\n",
            "Requirement already satisfied: pytz in /usr/local/lib/python3.9/dist-packages (from interchange~=2021.0.4->py2neo) (2022.7.1)\n",
            "Installing collected packages: monotonic, pansi, interchange, py2neo\n",
            "Successfully installed interchange-2021.0.4 monotonic-1.6 pansi-2020.7.3 py2neo-2021.2.3\n",
            "Looking in indexes: https://pypi.org/simple, https://us-python.pkg.dev/colab-wheels/public/simple/\n",
            "Collecting neo4j\n",
            "  Downloading neo4j-5.7.0.tar.gz (176 kB)\n",
            "\u001b[2K     \u001b[90m━━━━━━━━━━━━━━━━━━━━━━━━━━━━━━━━━━━━━━━\u001b[0m \u001b[32m176.3/176.3 KB\u001b[0m \u001b[31m2.9 MB/s\u001b[0m eta \u001b[36m0:00:00\u001b[0m\n",
            "\u001b[?25h  Installing build dependencies ... \u001b[?25l\u001b[?25hdone\n",
            "  Getting requirements to build wheel ... \u001b[?25l\u001b[?25hdone\n",
            "  Installing backend dependencies ... \u001b[?25l\u001b[?25hdone\n",
            "  Preparing metadata (pyproject.toml) ... \u001b[?25l\u001b[?25hdone\n",
            "Requirement already satisfied: pytz in /usr/local/lib/python3.9/dist-packages (from neo4j) (2022.7.1)\n",
            "Building wheels for collected packages: neo4j\n",
            "  Building wheel for neo4j (pyproject.toml) ... \u001b[?25l\u001b[?25hdone\n",
            "  Created wheel for neo4j: filename=neo4j-5.7.0-py3-none-any.whl size=244275 sha256=5e6e745f11cadc12605f6f9214e445cef234babe1e600acfcdb62ea1147221de\n",
            "  Stored in directory: /root/.cache/pip/wheels/6d/be/1e/749b84bba4b7429145ea09ccb46114fab4748625eb319f286a\n",
            "Successfully built neo4j\n",
            "Installing collected packages: neo4j\n",
            "Successfully installed neo4j-5.7.0\n"
          ]
        }
      ]
    },
    {
      "cell_type": "code",
      "execution_count": null,
      "metadata": {
        "id": "20eP-Dti2h3F"
      },
      "outputs": [],
      "source": [
        "import pandas as pd\n",
        "from py2neo import Graph, Node, Relationship\n",
        "from neo4j import GraphDatabase\n",
        "from google.colab import drive\n",
        "from graphdatascience import GraphDataScience"
      ]
    },
    {
      "cell_type": "markdown",
      "source": [
        "Setup:\n",
        "\n",
        "---\n",
        "\n"
      ],
      "metadata": {
        "id": "C0__UYi974Bz"
      }
    },
    {
      "cell_type": "code",
      "source": [
        "drive.mount('/content/drive')\n",
        "!cp -r /content/drive/MyDrive/Dataset/share/GA/nj/ /content/\n",
        "!sed -i '/#dbms.security.auth_enabled/s/^#//g' nj/conf/neo4j.conf\n",
        "!chmod -R 777 nj\n",
        "!nj/bin/neo4j start"
      ],
      "metadata": {
        "id": "atyLHvFZ73Re",
        "colab": {
          "base_uri": "https://localhost:8080/"
        },
        "outputId": "9e4d6278-a39e-40d8-f4ff-71402b633fbc"
      },
      "execution_count": null,
      "outputs": [
        {
          "output_type": "stream",
          "name": "stdout",
          "text": [
            "Mounted at /content/drive\n",
            "Directories in use:\n",
            "home:         /content/nj\n",
            "config:       /content/nj/conf\n",
            "logs:         /content/nj/logs\n",
            "plugins:      /content/nj/plugins\n",
            "import:       /content/nj/import\n",
            "data:         /content/nj/data\n",
            "certificates: /content/nj/certificates\n",
            "licenses:     /content/nj/licenses\n",
            "run:          /content/nj/run\n",
            "Starting Neo4j.\n",
            "Started neo4j (pid:1444). It is available at http://localhost:7474\n",
            "There may be a short delay until the server is ready.\n"
          ]
        }
      ]
    },
    {
      "cell_type": "markdown",
      "source": [
        "Neo4j connection:\n",
        "\n",
        "---\n",
        "\n"
      ],
      "metadata": {
        "id": "OyfRtpqoAycX"
      }
    },
    {
      "cell_type": "code",
      "source": [
        "graph = Graph(\"bolt://localhost:7687\")\n",
        "driver = GraphDatabase.driver(\"bolt://localhost:7687\")"
      ],
      "metadata": {
        "id": "ND_V032iAyFV"
      },
      "execution_count": null,
      "outputs": []
    },
    {
      "cell_type": "markdown",
      "source": [
        "Dataset: \n",
        "\n",
        "https://networkrepository.com/TWITTER-Real-Graph-Partial.php\n",
        "\n",
        "Shared in the google drive "
      ],
      "metadata": {
        "id": "vrPtAWc-ROCT"
      }
    },
    {
      "cell_type": "code",
      "source": [
        "# Please comment the below line to execute the cell\n",
        "# Loadding dataset only needed for graph creation\n",
        "%%script echo skipping\n",
        "# Map the shared folder \n",
        "# https://drive.google.com/drive/folders/113gZK1io1MZGogAULYoBdrlEUHyJcxRh?usp=sharing \n",
        "# to your google drive and modify the file path accordingly\n",
        "file = \"/content/drive/MyDrive/Dataset/share/GA/TWITTER-Real-Graph-Partial.edges\"\n",
        "df = pd.read_csv(file)\n",
        "df.rename(columns = {'1':'source', '2':'target'}, inplace = True)\n",
        "print(df.head(5))\n",
        "dft = df"
      ],
      "metadata": {
        "colab": {
          "base_uri": "https://localhost:8080/"
        },
        "id": "_xMVY20GR09j",
        "outputId": "c0d8b6a9-229d-42bc-92b7-0e614b9349a9"
      },
      "execution_count": null,
      "outputs": [
        {
          "output_type": "stream",
          "name": "stdout",
          "text": [
            "   source  target\n",
            "0       2       1\n",
            "1       3       4\n",
            "2       4       3\n",
            "3       3       2\n",
            "4       2       3\n"
          ]
        }
      ]
    },
    {
      "cell_type": "markdown",
      "source": [
        "Create Graph :"
      ],
      "metadata": {
        "id": "5LRZ1NfTXZ3r"
      }
    },
    {
      "cell_type": "code",
      "source": [
        "# Please comment the below line to execute the cell\n",
        "# Loadding dataset only needed for graph creation\n",
        "# DB is loaded directly from drive for execution so no to run this code\n",
        "%%script echo skipping\n",
        "query = \"\"\"\n",
        "WITH $rows AS rows\n",
        "UNWIND rows AS row\n",
        "MERGE (source:Node {id: row.source})\n",
        "MERGE (target:Node {id: row.target})\n",
        "MERGE (source)-[:CONNECTS_TO]-(target)\n",
        "\"\"\"\n",
        "\n",
        "# set batch size and index properties\n",
        "batch_size = 1000\n",
        "index_properties = ['id']\n",
        "\n",
        "# create indexes on node properties\n",
        "with driver.session() as session:\n",
        "    for property_name in index_properties:\n",
        "        session.run(f\"CREATE INDEX ON :Node({property_name})\")\n",
        "\n",
        "# execute the query in batch transactions\n",
        "with driver.session() as session:\n",
        "    for i in range(0, len(dft), batch_size):\n",
        "        batch = dft[i:i+batch_size].to_dict('records')\n",
        "        session.run(query, rows=batch)"
      ],
      "metadata": {
        "id": "JP_AZPagUbDs"
      },
      "execution_count": null,
      "outputs": []
    },
    {
      "cell_type": "markdown",
      "source": [
        "Path Analytics: \n",
        "\n",
        "---\n",
        "\n"
      ],
      "metadata": {
        "id": "zdFzB4sRD0ch"
      }
    },
    {
      "cell_type": "code",
      "source": [
        "start_time = timeit.default_timer()\n",
        "\n",
        "query = \"\"\"\n",
        "MATCH (source:Node {id: 357908})\n",
        "MATCH (destination:Node)\n",
        "WHERE source <> destination\n",
        "MATCH path = allshortestPaths((source)-[:CONNECTS_TO*]-(destination))\n",
        "WITH source, destination, reduce(distance = 0, r in relationships(path) | distance + 1) AS distance, nodes(path) AS nodes\n",
        "RETURN source.id, destination.id, distance, nodes, COLLECT( DISTINCT nodes)\n",
        "\"\"\"\n",
        "result = graph.run(query)\n",
        "\n",
        "elapsed = timeit.default_timer() - start_time\n",
        "print(\"Time taken for allshortestPaths = \", elapsed, \"seconds\")\n",
        "\n",
        "for record in result:\n",
        "  nodes = record[\"nodes\"]\n",
        "  print ([node[\"id\"] for node in nodes])"
      ],
      "metadata": {
        "id": "VlKuFlIijOCQ",
        "colab": {
          "base_uri": "https://localhost:8080/"
        },
        "outputId": "e8005fee-778f-4771-a8b8-32ea9df642c6"
      },
      "execution_count": null,
      "outputs": [
        {
          "output_type": "stream",
          "name": "stdout",
          "text": [
            "Time taken for allshortestPaths =  9.603542574999665 seconds\n",
            "[357908, 357909]\n",
            "[357908, 357911]\n",
            "[357908, 357910]\n"
          ]
        }
      ]
    },
    {
      "cell_type": "markdown",
      "source": [
        "Time taken for SSSP =  9.603542574999665 seconds"
      ],
      "metadata": {
        "id": "InJbFNVKfXpv"
      }
    },
    {
      "cell_type": "code",
      "source": [
        "gds = GraphDataScience(\"bolt://localhost:7687\")\n",
        "print(gds.version())\n",
        "assert gds.version()"
      ],
      "metadata": {
        "colab": {
          "base_uri": "https://localhost:8080/"
        },
        "outputId": "99694002-b2bb-40f2-85b4-0c7810da222f",
        "id": "Rcy4UqVycfVz"
      },
      "execution_count": null,
      "outputs": [
        {
          "output_type": "stream",
          "name": "stdout",
          "text": [
            "2.3.0\n"
          ]
        }
      ]
    },
    {
      "cell_type": "code",
      "source": [
        "query = \"\"\"\n",
        "CALL gds.graph.drop('full_graph')\n",
        "\"\"\" \n",
        "\n",
        "graph.run(query)"
      ],
      "metadata": {
        "colab": {
          "base_uri": "https://localhost:8080/",
          "height": 289
        },
        "id": "NeFOEKT5crlB",
        "outputId": "2a781891-b031-4638-b081-83b032b20d14"
      },
      "execution_count": null,
      "outputs": [
        {
          "output_type": "execute_result",
          "data": {
            "text/plain": [
              " graphName  | database | memoryUsage | sizeInBytes | nodeCount | relationshipCount | configuration                                                                                                                                                                                                                                                                                                                                                |               density | creationTime                                    | modificationTime                                | schema                                                                                                                                    | schemaWithOrientation                                                                                                                                                          \n",
              "------------|----------|-------------|-------------|-----------|-------------------|--------------------------------------------------------------------------------------------------------------------------------------------------------------------------------------------------------------------------------------------------------------------------------------------------------------------------------------------------------------|-----------------------|-------------------------------------------------|-------------------------------------------------|-------------------------------------------------------------------------------------------------------------------------------------------|--------------------------------------------------------------------------------------------------------------------------------------------------------------------------------\n",
              " full_graph | neo4j    |             |          -1 |    580768 |           1435110 | {relationshipQuery: 'MATCH (n)-[:CONNECTS_TO]-(m) RETURN id(n) AS source, 1 AS weight, id(m) AS target LIMIT 1435110', jobId: 'f1996b14-be07-480f-96ec-e7881b138d2b', creationTime: datetime('2023-04-05T17:58:49.872059000+00:00'), validateRelationships: true, nodeQuery: 'MATCH (n) RETURN id(n) AS id', sudo: true, readConcurrency: 4, parameters: []} | 4.254814009404595e-06 | datetime('2023-04-05T17:58:49.872059000+00:00') | datetime('2023-04-05T17:58:54.693821000+00:00') | {graphProperties: {}, relationships: {__ALL__: {weight: 'Float (DefaultValue(NaN), TRANSIENT, Aggregation.NONE)'}}, nodes: {__ALL__: {}}} | {graphProperties: {}, relationships: {__ALL__: {properties: {weight: 'Float (DefaultValue(NaN), TRANSIENT, Aggregation.NONE)'}, direction: 'DIRECTED'}}, nodes: {__ALL__: {}}} "
            ],
            "text/html": [
              "<table><tr><th>graphName</th><th>database</th><th>memoryUsage</th><th>sizeInBytes</th><th>nodeCount</th><th>relationshipCount</th><th>configuration</th><th>density</th><th>creationTime</th><th>modificationTime</th><th>schema</th><th>schemaWithOrientation</th></tr><tr><td style=\"text-align:left\">full_graph</td><td style=\"text-align:left\">neo4j</td><td style=\"text-align:left\"></td><td style=\"text-align:right\">-1</td><td style=\"text-align:right\">580768</td><td style=\"text-align:right\">1435110</td><td style=\"text-align:left\">{relationshipQuery: &#039;MATCH (n)-[:CONNECTS_TO]-(m) RETURN id(n) AS source, 1 AS weight, id(m) AS target LIMIT 1435110&#039;, jobId: &#039;f1996b14-be07-480f-96ec-e7881b138d2b&#039;, creationTime: datetime(&#039;2023-04-05T17:58:49.872059000+00:00&#039;), validateRelationships: true, nodeQuery: &#039;MATCH (n) RETURN id(n) AS id&#039;, sudo: true, readConcurrency: 4, parameters: []}</td><td style=\"text-align:right\">4.254814009404595e-06</td><td style=\"text-align:left\">datetime(&#039;2023-04-05T17:58:49.872059000+00:00&#039;)</td><td style=\"text-align:left\">datetime(&#039;2023-04-05T17:58:54.693821000+00:00&#039;)</td><td style=\"text-align:left\">{graphProperties: {}, relationships: {__ALL__: {weight: &#039;Float (DefaultValue(NaN), TRANSIENT, Aggregation.NONE)&#039;}}, nodes: {__ALL__: {}}}</td><td style=\"text-align:left\">{graphProperties: {}, relationships: {__ALL__: {properties: {weight: &#039;Float (DefaultValue(NaN), TRANSIENT, Aggregation.NONE)&#039;}, direction: &#039;DIRECTED&#039;}}, nodes: {__ALL__: {}}}</td></tr></table>"
            ]
          },
          "metadata": {},
          "execution_count": 74
        }
      ]
    },
    {
      "cell_type": "code",
      "source": [
        "query = \"\"\"\n",
        "CALL gds.graph.list()\n",
        "YIELD graphName, nodeCount, relationshipCount\n",
        "RETURN graphName, nodeCount, relationshipCount\n",
        "ORDER BY graphName ASC\n",
        "\"\"\" \n",
        "\n",
        "result = graph.run(query)\n",
        "print(result)"
      ],
      "metadata": {
        "colab": {
          "base_uri": "https://localhost:8080/"
        },
        "id": "YKNEdWCAdwcz",
        "outputId": "d1638624-edac-42e2-a6ba-f14e302fa40a"
      },
      "execution_count": null,
      "outputs": [
        {
          "output_type": "stream",
          "name": "stdout",
          "text": [
            " graphName  | nodeCount | relationshipCount \r\n",
            "------------|-----------|-------------------\r\n",
            " full_graph |    580768 |           1435116 \r\n",
            "\n"
          ]
        }
      ]
    },
    {
      "cell_type": "markdown",
      "source": [
        "Centrality Analytics :\n",
        "\n",
        "---\n",
        "\n"
      ],
      "metadata": {
        "id": "ugA9PBKRD3dP"
      }
    },
    {
      "cell_type": "markdown",
      "source": [],
      "metadata": {
        "id": "A6qPPnjjEHMB"
      }
    },
    {
      "cell_type": "code",
      "source": [
        "start_time = timeit.default_timer()\n",
        "query = \"\"\"\n",
        "CALL gds.beta.closeness.stream('full_graph')\n",
        "YIELD nodeId, score\n",
        "RETURN gds.util.asNode(nodeId).id AS id, score\n",
        "ORDER BY score DESC\n",
        "\"\"\" \n",
        "\n",
        "result = graph.run(query)\n",
        "elapsed = timeit.default_timer() - start_time\n",
        "print(\"Time taken for gds.beta.closeness.stream = \", elapsed, \"seconds\")\n",
        "print(result)"
      ],
      "metadata": {
        "colab": {
          "base_uri": "https://localhost:8080/"
        },
        "id": "SIYIoqCE_m5d",
        "outputId": "dc69434f-af22-461f-b726-84d77674329f"
      },
      "execution_count": null,
      "outputs": [
        {
          "output_type": "stream",
          "name": "stdout",
          "text": [
            "Time taken for gds.beta.closeness.stream =  75.23033977599994 seconds\n",
            " id | score \r\n",
            "----|-------\r\n",
            "  7 |   1.0 \r\n",
            "  8 |   1.0 \r\n",
            "  9 |   1.0 \r\n",
            "\n"
          ]
        }
      ]
    },
    {
      "cell_type": "markdown",
      "source": [
        "Time taken for closeness =  75.23033977599994 seconds"
      ],
      "metadata": {
        "id": "AuUg7RXufjoQ"
      }
    },
    {
      "cell_type": "code",
      "source": [
        "start_time = timeit.default_timer()\n",
        "query = \"\"\"\n",
        "CALL gds.degree.stream('full_graph')\n",
        "YIELD nodeId, score\n",
        "RETURN gds.util.asNode(nodeId).id AS id, score AS connections\n",
        "ORDER BY connections DESC, id DESC\n",
        "\"\"\"\n",
        "\n",
        "result = graph.run(query)\n",
        "elapsed = timeit.default_timer() - start_time\n",
        "print(\"Time taken for gds.degree.stream = \", elapsed, \"seconds\")\n",
        "print(result)"
      ],
      "metadata": {
        "colab": {
          "base_uri": "https://localhost:8080/"
        },
        "id": "CaddVVF9GFkH",
        "outputId": "4fb5f6fc-446b-41d6-a69e-8410c1b2532b"
      },
      "execution_count": null,
      "outputs": [
        {
          "output_type": "stream",
          "name": "stdout",
          "text": [
            "Time taken for gds.degree.stream =  12.989420579999205 seconds\n",
            "     id | connections \r\n",
            "--------|-------------\r\n",
            " 471948 |        12.0 \r\n",
            " 415947 |        12.0 \r\n",
            " 380973 |        12.0 \r\n",
            "\n"
          ]
        }
      ]
    },
    {
      "cell_type": "markdown",
      "source": [
        "Time taken for degree centrality =  12.989420579999205 seconds"
      ],
      "metadata": {
        "id": "_gX0jhEMfyDf"
      }
    },
    {
      "cell_type": "code",
      "source": [
        "start_time = timeit.default_timer()\n",
        "query = \"\"\"\n",
        "CALL gds.betweenness.stream('full_graph')\n",
        "YIELD nodeId, score\n",
        "RETURN gds.util.asNode(nodeId).id AS id, score\n",
        "ORDER BY score DESC\n",
        "\"\"\"\n",
        "\n",
        "result = graph.run(query)\n",
        "elapsed = timeit.default_timer() - start_time\n",
        "print(\"Time taken for gds.betweenness.stream = \", elapsed, \"seconds\")"
      ],
      "metadata": {
        "colab": {
          "base_uri": "https://localhost:8080/"
        },
        "id": "5k-Ju6BaIM-a",
        "outputId": "57c9ed8d-36fb-4587-f9e8-d12199070bcd"
      },
      "execution_count": null,
      "outputs": [
        {
          "output_type": "stream",
          "name": "stdout",
          "text": [
            "Time taken for gds.betweenness.stream =  2066.7040606800006 seconds\n"
          ]
        }
      ]
    },
    {
      "cell_type": "markdown",
      "source": [
        "Time taken for betweenness centrality =  2066.7040606800006 seconds\n"
      ],
      "metadata": {
        "id": "eY6lt6fCf4lB"
      }
    },
    {
      "cell_type": "markdown",
      "source": [
        "Community Analytics :\n",
        "\n",
        "---\n",
        "\n"
      ],
      "metadata": {
        "id": "W2bw2KgYELU4"
      }
    },
    {
      "cell_type": "code",
      "source": [
        "query = \"\"\"\n",
        "CALL gds.louvain.stats('full_graph')\n",
        "YIELD communityCount\n",
        "\"\"\" \n",
        "\n",
        "result = graph.run(query)\n",
        "print(result)"
      ],
      "metadata": {
        "colab": {
          "base_uri": "https://localhost:8080/"
        },
        "id": "cKOJNUF8Gysb",
        "outputId": "52382de8-cf66-47c6-f054-3f0546ac0d92"
      },
      "execution_count": null,
      "outputs": [
        {
          "output_type": "stream",
          "name": "stdout",
          "text": [
            " communityCount \r\n",
            "----------------\r\n",
            "         147179 \r\n",
            "\n"
          ]
        }
      ]
    },
    {
      "cell_type": "code",
      "source": [
        "start_time = timeit.default_timer()\n",
        "query = \"\"\"\n",
        "CALL gds.louvain.stream('full_graph')\n",
        "YIELD nodeId, communityId\n",
        "\"\"\" \n",
        "\n",
        "result = graph.run(query)\n",
        "elapsed = timeit.default_timer() - start_time\n",
        "print(\"Time taken for gds.louvain.stream = \", elapsed, \"seconds\")\n",
        "print(result)"
      ],
      "metadata": {
        "colab": {
          "base_uri": "https://localhost:8080/"
        },
        "id": "sXzSWh3EXTiv",
        "outputId": "9292de29-b391-4174-f808-df0f844be4fa"
      },
      "execution_count": null,
      "outputs": [
        {
          "output_type": "stream",
          "name": "stdout",
          "text": [
            "Time taken for gds.louvain.stream =  17.137901083999964 seconds\n",
            " nodeId | communityId \r\n",
            "--------|-------------\r\n",
            "      0 |           1 \r\n",
            "      1 |           1 \r\n",
            "      2 |           1 \r\n",
            "\n"
          ]
        }
      ]
    },
    {
      "cell_type": "markdown",
      "source": [
        "Time taken for louvain community detection =  17.137901083999964 seconds\n",
        "\n",
        "No. of communities identified =  147179"
      ],
      "metadata": {
        "id": "BHZK_AGx4gtp"
      }
    },
    {
      "cell_type": "markdown",
      "source": [
        "It **not possible** to project graphs in **UNDIRECTED** orientation when **Cypher projections** are used.\n",
        "\n",
        "**Triangles and Clusturin**g algorithms require that the graph was loaded with UNDIRECTED orientation. These algorithms can not be used with a graph projected by a Cypher projection.\n",
        "\n",
        "Ref: https://neo4j.com/docs/graph-data-science/current/management-ops/projections/graph-project-cypher/#_relationship_orientation"
      ],
      "metadata": {
        "id": "NZWSyg0VdLom"
      }
    }
  ]
}