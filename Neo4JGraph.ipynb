{
  "nbformat": 4,
  "nbformat_minor": 0,
  "metadata": {
    "colab": {
      "provenance": [],
      "authorship_tag": "ABX9TyPo0Ukx14dvEBbtbyMWj+jY",
      "include_colab_link": true
    },
    "kernelspec": {
      "name": "python3",
      "display_name": "Python 3"
    },
    "language_info": {
      "name": "python"
    }
  },
  "cells": [
    {
      "cell_type": "markdown",
      "metadata": {
        "id": "view-in-github",
        "colab_type": "text"
      },
      "source": [
        "<a href=\"https://colab.research.google.com/github/NathVM/GA/blob/main/Neo4JGraph.ipynb\" target=\"_parent\"><img src=\"https://colab.research.google.com/assets/colab-badge.svg\" alt=\"Open In Colab\"/></a>"
      ]
    },
    {
      "cell_type": "markdown",
      "source": [
        "# Measuring performance of Graph Analytics Algorithms using Neo4j graphs\n",
        "\n",
        "---\n",
        "\n"
      ],
      "metadata": {
        "id": "WYVsJ5wy3fmK"
      }
    },
    {
      "cell_type": "markdown",
      "source": [
        "Imports:\n",
        "\n",
        "---\n",
        "\n"
      ],
      "metadata": {
        "id": "xyENnxE878Sc"
      }
    },
    {
      "cell_type": "code",
      "source": [
        "!pip install py2neo\n",
        "!pip install neo4j\n",
        "!pip install graphdatascience"
      ],
      "metadata": {
        "colab": {
          "base_uri": "https://localhost:8080/"
        },
        "id": "Facep2vA4mve",
        "outputId": "30950c4f-402a-4cdf-e791-72527d3d1a5c"
      },
      "execution_count": 1,
      "outputs": [
        {
          "output_type": "stream",
          "name": "stdout",
          "text": [
            "Looking in indexes: https://pypi.org/simple, https://us-python.pkg.dev/colab-wheels/public/simple/\n",
            "Collecting py2neo\n",
            "  Downloading py2neo-2021.2.3-py2.py3-none-any.whl (177 kB)\n",
            "\u001b[2K     \u001b[90m━━━━━━━━━━━━━━━━━━━━━━━━━━━━━━━━━━━━━━━\u001b[0m \u001b[32m177.0/177.0 KB\u001b[0m \u001b[31m7.8 MB/s\u001b[0m eta \u001b[36m0:00:00\u001b[0m\n",
            "\u001b[?25hRequirement already satisfied: six>=1.15.0 in /usr/local/lib/python3.9/dist-packages (from py2neo) (1.16.0)\n",
            "Requirement already satisfied: packaging in /usr/local/lib/python3.9/dist-packages (from py2neo) (23.0)\n",
            "Requirement already satisfied: urllib3 in /usr/local/lib/python3.9/dist-packages (from py2neo) (1.26.15)\n",
            "Collecting monotonic\n",
            "  Downloading monotonic-1.6-py2.py3-none-any.whl (8.2 kB)\n",
            "Requirement already satisfied: pygments>=2.0.0 in /usr/local/lib/python3.9/dist-packages (from py2neo) (2.14.0)\n",
            "Collecting pansi>=2020.7.3\n",
            "  Downloading pansi-2020.7.3-py2.py3-none-any.whl (10 kB)\n",
            "Requirement already satisfied: certifi in /usr/local/lib/python3.9/dist-packages (from py2neo) (2022.12.7)\n",
            "Collecting interchange~=2021.0.4\n",
            "  Downloading interchange-2021.0.4-py2.py3-none-any.whl (28 kB)\n",
            "Requirement already satisfied: pytz in /usr/local/lib/python3.9/dist-packages (from interchange~=2021.0.4->py2neo) (2022.7.1)\n",
            "Installing collected packages: monotonic, pansi, interchange, py2neo\n",
            "Successfully installed interchange-2021.0.4 monotonic-1.6 pansi-2020.7.3 py2neo-2021.2.3\n",
            "Looking in indexes: https://pypi.org/simple, https://us-python.pkg.dev/colab-wheels/public/simple/\n",
            "Collecting neo4j\n",
            "  Downloading neo4j-5.7.0.tar.gz (176 kB)\n",
            "\u001b[2K     \u001b[90m━━━━━━━━━━━━━━━━━━━━━━━━━━━━━━━━━━━━━━━\u001b[0m \u001b[32m176.3/176.3 KB\u001b[0m \u001b[31m2.9 MB/s\u001b[0m eta \u001b[36m0:00:00\u001b[0m\n",
            "\u001b[?25h  Installing build dependencies ... \u001b[?25l\u001b[?25hdone\n",
            "  Getting requirements to build wheel ... \u001b[?25l\u001b[?25hdone\n",
            "  Installing backend dependencies ... \u001b[?25l\u001b[?25hdone\n",
            "  Preparing metadata (pyproject.toml) ... \u001b[?25l\u001b[?25hdone\n",
            "Requirement already satisfied: pytz in /usr/local/lib/python3.9/dist-packages (from neo4j) (2022.7.1)\n",
            "Building wheels for collected packages: neo4j\n",
            "  Building wheel for neo4j (pyproject.toml) ... \u001b[?25l\u001b[?25hdone\n",
            "  Created wheel for neo4j: filename=neo4j-5.7.0-py3-none-any.whl size=244275 sha256=5e6e745f11cadc12605f6f9214e445cef234babe1e600acfcdb62ea1147221de\n",
            "  Stored in directory: /root/.cache/pip/wheels/6d/be/1e/749b84bba4b7429145ea09ccb46114fab4748625eb319f286a\n",
            "Successfully built neo4j\n",
            "Installing collected packages: neo4j\n",
            "Successfully installed neo4j-5.7.0\n"
          ]
        }
      ]
    },
    {
      "cell_type": "code",
      "source": [
        "!neo4j --version"
      ],
      "metadata": {
        "colab": {
          "base_uri": "https://localhost:8080/"
        },
        "id": "fgtzVWJJlzA2",
        "outputId": "625871a1-f1a1-4b5b-d0bb-f51bf8f1b2cc"
      },
      "execution_count": 5,
      "outputs": [
        {
          "output_type": "stream",
          "name": "stdout",
          "text": [
            "/bin/bash: neo4j: command not found\n"
          ]
        }
      ]
    },
    {
      "cell_type": "code",
      "execution_count": 6,
      "metadata": {
        "id": "20eP-Dti2h3F"
      },
      "outputs": [],
      "source": [
        "import pandas as pd\n",
        "from py2neo import Graph, Node, Relationship\n",
        "from neo4j import GraphDatabase\n",
        "from google.colab import drive\n",
        "from graphdatascience import GraphDataScience"
      ]
    },
    {
      "cell_type": "code",
      "source": [
        "!python --version"
      ],
      "metadata": {
        "colab": {
          "base_uri": "https://localhost:8080/"
        },
        "id": "jRTha42Wc95p",
        "outputId": "5322748d-4c40-4ed2-993f-9be9c6bd5d0f"
      },
      "execution_count": 7,
      "outputs": [
        {
          "output_type": "stream",
          "name": "stdout",
          "text": [
            "Python 3.9.16\n"
          ]
        }
      ]
    },
    {
      "cell_type": "markdown",
      "source": [
        "Setup:\n",
        "\n",
        "---\n",
        "\n"
      ],
      "metadata": {
        "id": "C0__UYi974Bz"
      }
    },
    {
      "cell_type": "code",
      "source": [
        "drive.mount('/content/drive')\n",
        "!cp -r /content/drive/MyDrive/Dataset/share/GA/nj/ /content/\n",
        "!sed -i '/#dbms.security.auth_enabled/s/^#//g' nj/conf/neo4j.conf\n",
        "!chmod -R 777 nj\n",
        "!nj/bin/neo4j start"
      ],
      "metadata": {
        "id": "atyLHvFZ73Re",
        "colab": {
          "base_uri": "https://localhost:8080/"
        },
        "outputId": "9e4d6278-a39e-40d8-f4ff-71402b633fbc"
      },
      "execution_count": 3,
      "outputs": [
        {
          "output_type": "stream",
          "name": "stdout",
          "text": [
            "Mounted at /content/drive\n",
            "Directories in use:\n",
            "home:         /content/nj\n",
            "config:       /content/nj/conf\n",
            "logs:         /content/nj/logs\n",
            "plugins:      /content/nj/plugins\n",
            "import:       /content/nj/import\n",
            "data:         /content/nj/data\n",
            "certificates: /content/nj/certificates\n",
            "licenses:     /content/nj/licenses\n",
            "run:          /content/nj/run\n",
            "Starting Neo4j.\n",
            "Started neo4j (pid:1444). It is available at http://localhost:7474\n",
            "There may be a short delay until the server is ready.\n"
          ]
        }
      ]
    },
    {
      "cell_type": "markdown",
      "source": [
        "Neo4j connection:\n",
        "\n",
        "---\n",
        "\n"
      ],
      "metadata": {
        "id": "OyfRtpqoAycX"
      }
    },
    {
      "cell_type": "code",
      "source": [
        "graph = Graph(\"bolt://localhost:7687\")\n",
        "driver = GraphDatabase.driver(\"bolt://localhost:7687\")"
      ],
      "metadata": {
        "id": "ND_V032iAyFV"
      },
      "execution_count": 8,
      "outputs": []
    },
    {
      "cell_type": "markdown",
      "source": [
        "Dataset: \n",
        "\n",
        "https://networkrepository.com/TWITTER-Real-Graph-Partial.php\n",
        "\n",
        "Shared in the google drive "
      ],
      "metadata": {
        "id": "vrPtAWc-ROCT"
      }
    },
    {
      "cell_type": "code",
      "source": [
        "# Please comment the below line to execute the cell\n",
        "# Loadding dataset only needed for graph creation\n",
        "%%script echo skipping\n",
        "# Map the shared folder \n",
        "# https://drive.google.com/drive/folders/113gZK1io1MZGogAULYoBdrlEUHyJcxRh?usp=sharing \n",
        "# to your google drive and modify the file path accordingly\n",
        "file = \"/content/drive/MyDrive/Dataset/share/GA/TWITTER-Real-Graph-Partial.edges\"\n",
        "df = pd.read_csv(file)\n",
        "df.rename(columns = {'1':'source', '2':'target'}, inplace = True)\n",
        "print(df.head(5))\n",
        "dft = df"
      ],
      "metadata": {
        "colab": {
          "base_uri": "https://localhost:8080/"
        },
        "id": "_xMVY20GR09j",
        "outputId": "c0d8b6a9-229d-42bc-92b7-0e614b9349a9"
      },
      "execution_count": 26,
      "outputs": [
        {
          "output_type": "stream",
          "name": "stdout",
          "text": [
            "   source  target\n",
            "0       2       1\n",
            "1       3       4\n",
            "2       4       3\n",
            "3       3       2\n",
            "4       2       3\n"
          ]
        }
      ]
    },
    {
      "cell_type": "markdown",
      "source": [
        "Create Graph :"
      ],
      "metadata": {
        "id": "5LRZ1NfTXZ3r"
      }
    },
    {
      "cell_type": "code",
      "source": [
        "# Please comment the below line to execute the cell\n",
        "# Loadding dataset only needed for graph creation\n",
        "# DB is loaded directly from drive for execution so no to run this code\n",
        "%%script echo skipping\n",
        "query = \"\"\"\n",
        "WITH $rows AS rows\n",
        "UNWIND rows AS row\n",
        "MERGE (source:Node {id: row.source})\n",
        "MERGE (target:Node {id: row.target})\n",
        "MERGE (source)-[:CONNECTS_TO]-(target)\n",
        "\"\"\"\n",
        "\n",
        "# set batch size and index properties\n",
        "batch_size = 1000\n",
        "index_properties = ['id']\n",
        "\n",
        "# create indexes on node properties\n",
        "with driver.session() as session:\n",
        "    for property_name in index_properties:\n",
        "        session.run(f\"CREATE INDEX ON :Node({property_name})\")\n",
        "\n",
        "# execute the query in batch transactions\n",
        "with driver.session() as session:\n",
        "    for i in range(0, len(dft), batch_size):\n",
        "        batch = dft[i:i+batch_size].to_dict('records')\n",
        "        session.run(query, rows=batch)"
      ],
      "metadata": {
        "id": "JP_AZPagUbDs"
      },
      "execution_count": 27,
      "outputs": []
    },
    {
      "cell_type": "markdown",
      "source": [
        "Path Analytics: \n",
        "\n",
        "---\n",
        "\n"
      ],
      "metadata": {
        "id": "zdFzB4sRD0ch"
      }
    },
    {
      "cell_type": "code",
      "source": [
        "query = \"\"\"\n",
        "MATCH (source:Node {id: 357908})\n",
        "MATCH (destination:Node)\n",
        "WHERE source <> destination\n",
        "MATCH path = allshortestPaths((source)-[:CONNECTS_TO*]-(destination))\n",
        "WITH source, destination, reduce(distance = 0, r in relationships(path) | distance + 1) AS distance, nodes(path) AS nodes\n",
        "RETURN source.id, destination.id, distance, nodes, COLLECT( DISTINCT nodes)\n",
        "\"\"\"\n",
        "result = graph.run(query)\n",
        "\n",
        "for record in result:\n",
        "  nodes = record[\"nodes\"]\n",
        "  print ([node[\"id\"] for node in nodes])"
      ],
      "metadata": {
        "id": "VlKuFlIijOCQ",
        "colab": {
          "base_uri": "https://localhost:8080/"
        },
        "outputId": "b1773b68-cbaf-412b-fc76-f60064cb6d29"
      },
      "execution_count": 28,
      "outputs": [
        {
          "output_type": "stream",
          "name": "stdout",
          "text": [
            "[357908, 357909]\n",
            "[357908, 357911]\n",
            "[357908, 357910]\n"
          ]
        }
      ]
    },
    {
      "cell_type": "code",
      "source": [
        "query = \"\"\"\n",
        "MATCH (n) \n",
        "LIMIT 100\n",
        "WITH DISTINCT collect(n) AS nodes\n",
        "UNWIND nodes AS source \n",
        "UNWIND nodes AS target \n",
        "WITH source, target\n",
        "WHERE source <> target\n",
        "MATCH path = shortestPath((source)-[:CONNECTED*]-(target))\n",
        "RETURN source, target, length(path) AS shortest_path_length\n",
        "\"\"\" \n",
        "result = graph.run(query)\n",
        "print(result)\n",
        "for record in result:\n",
        "  nodes = record[\"nodes\"]\n",
        "  print ([node[\"id\"] for node in nodes])"
      ],
      "metadata": {
        "colab": {
          "base_uri": "https://localhost:8080/",
          "height": 762
        },
        "id": "LTAU_esM-n0Q",
        "outputId": "02e48848-e806-426e-a43b-d94e6fb97c9a"
      },
      "execution_count": 17,
      "outputs": [
        {
          "output_type": "error",
          "ename": "ClientError",
          "evalue": "ignored",
          "traceback": [
            "\u001b[0;31m---------------------------------------------------------------------------\u001b[0m",
            "\u001b[0;31mClientError\u001b[0m                               Traceback (most recent call last)",
            "\u001b[0;32m<ipython-input-17-920c7386d83d>\u001b[0m in \u001b[0;36m<cell line: 12>\u001b[0;34m()\u001b[0m\n\u001b[1;32m     10\u001b[0m \u001b[0mRETURN\u001b[0m \u001b[0msource\u001b[0m\u001b[0;34m,\u001b[0m \u001b[0mtarget\u001b[0m\u001b[0;34m,\u001b[0m \u001b[0mlength\u001b[0m\u001b[0;34m(\u001b[0m\u001b[0mpath\u001b[0m\u001b[0;34m)\u001b[0m \u001b[0mAS\u001b[0m \u001b[0mshortest_path_length\u001b[0m\u001b[0;34m\u001b[0m\u001b[0;34m\u001b[0m\u001b[0m\n\u001b[1;32m     11\u001b[0m \"\"\" \n\u001b[0;32m---> 12\u001b[0;31m \u001b[0mresult\u001b[0m \u001b[0;34m=\u001b[0m \u001b[0mgraph\u001b[0m\u001b[0;34m.\u001b[0m\u001b[0mrun\u001b[0m\u001b[0;34m(\u001b[0m\u001b[0mquery\u001b[0m\u001b[0;34m)\u001b[0m\u001b[0;34m\u001b[0m\u001b[0;34m\u001b[0m\u001b[0m\n\u001b[0m\u001b[1;32m     13\u001b[0m \u001b[0mprint\u001b[0m\u001b[0;34m(\u001b[0m\u001b[0mresult\u001b[0m\u001b[0;34m)\u001b[0m\u001b[0;34m\u001b[0m\u001b[0;34m\u001b[0m\u001b[0m\n\u001b[1;32m     14\u001b[0m \u001b[0;32mfor\u001b[0m \u001b[0mrecord\u001b[0m \u001b[0;32min\u001b[0m \u001b[0mresult\u001b[0m\u001b[0;34m:\u001b[0m\u001b[0;34m\u001b[0m\u001b[0;34m\u001b[0m\u001b[0m\n",
            "\u001b[0;32m/usr/local/lib/python3.9/dist-packages/py2neo/database.py\u001b[0m in \u001b[0;36mrun\u001b[0;34m(self, cypher, parameters, **kwparameters)\u001b[0m\n\u001b[1;32m    403\u001b[0m         \u001b[0;34m:\u001b[0m\u001b[0;32mreturn\u001b[0m\u001b[0;34m:\u001b[0m\u001b[0;34m\u001b[0m\u001b[0;34m\u001b[0m\u001b[0m\n\u001b[1;32m    404\u001b[0m         \"\"\"\n\u001b[0;32m--> 405\u001b[0;31m         \u001b[0;32mreturn\u001b[0m \u001b[0mself\u001b[0m\u001b[0;34m.\u001b[0m\u001b[0mauto\u001b[0m\u001b[0;34m(\u001b[0m\u001b[0;34m)\u001b[0m\u001b[0;34m.\u001b[0m\u001b[0mrun\u001b[0m\u001b[0;34m(\u001b[0m\u001b[0mcypher\u001b[0m\u001b[0;34m,\u001b[0m \u001b[0mparameters\u001b[0m\u001b[0;34m,\u001b[0m \u001b[0;34m**\u001b[0m\u001b[0mkwparameters\u001b[0m\u001b[0;34m)\u001b[0m\u001b[0;34m\u001b[0m\u001b[0;34m\u001b[0m\u001b[0m\n\u001b[0m\u001b[1;32m    406\u001b[0m \u001b[0;34m\u001b[0m\u001b[0m\n\u001b[1;32m    407\u001b[0m     \u001b[0;32mdef\u001b[0m \u001b[0mevaluate\u001b[0m\u001b[0;34m(\u001b[0m\u001b[0mself\u001b[0m\u001b[0;34m,\u001b[0m \u001b[0mcypher\u001b[0m\u001b[0;34m,\u001b[0m \u001b[0mparameters\u001b[0m\u001b[0;34m=\u001b[0m\u001b[0;32mNone\u001b[0m\u001b[0;34m,\u001b[0m \u001b[0;34m**\u001b[0m\u001b[0mkwparameters\u001b[0m\u001b[0;34m)\u001b[0m\u001b[0;34m:\u001b[0m\u001b[0;34m\u001b[0m\u001b[0;34m\u001b[0m\u001b[0m\n",
            "\u001b[0;32m/usr/local/lib/python3.9/dist-packages/py2neo/database.py\u001b[0m in \u001b[0;36mrun\u001b[0;34m(self, cypher, parameters, **kwparameters)\u001b[0m\n\u001b[1;32m    990\u001b[0m                                                   \u001b[0mgraph_name\u001b[0m\u001b[0;34m=\u001b[0m\u001b[0mself\u001b[0m\u001b[0;34m.\u001b[0m\u001b[0mgraph\u001b[0m\u001b[0;34m.\u001b[0m\u001b[0mname\u001b[0m\u001b[0;34m,\u001b[0m\u001b[0;34m\u001b[0m\u001b[0;34m\u001b[0m\u001b[0m\n\u001b[1;32m    991\u001b[0m                                                   readonly=self.readonly)\n\u001b[0;32m--> 992\u001b[0;31m             \u001b[0mself\u001b[0m\u001b[0;34m.\u001b[0m\u001b[0m_connector\u001b[0m\u001b[0;34m.\u001b[0m\u001b[0mpull\u001b[0m\u001b[0;34m(\u001b[0m\u001b[0mresult\u001b[0m\u001b[0;34m,\u001b[0m \u001b[0;34m-\u001b[0m\u001b[0;36m1\u001b[0m\u001b[0;34m)\u001b[0m\u001b[0;34m\u001b[0m\u001b[0;34m\u001b[0m\u001b[0m\n\u001b[0m\u001b[1;32m    993\u001b[0m             \u001b[0;32mreturn\u001b[0m \u001b[0mCursor\u001b[0m\u001b[0;34m(\u001b[0m\u001b[0mresult\u001b[0m\u001b[0;34m,\u001b[0m \u001b[0mhydrant\u001b[0m\u001b[0;34m)\u001b[0m\u001b[0;34m\u001b[0m\u001b[0;34m\u001b[0m\u001b[0m\n\u001b[1;32m    994\u001b[0m         \u001b[0;32mfinally\u001b[0m\u001b[0;34m:\u001b[0m\u001b[0;34m\u001b[0m\u001b[0;34m\u001b[0m\u001b[0m\n",
            "\u001b[0;32m/usr/local/lib/python3.9/dist-packages/py2neo/client/__init__.py\u001b[0m in \u001b[0;36mpull\u001b[0;34m(self, result, n)\u001b[0m\n\u001b[1;32m   1432\u001b[0m         \u001b[0mcx\u001b[0m \u001b[0;34m=\u001b[0m \u001b[0mself\u001b[0m\u001b[0;34m.\u001b[0m\u001b[0m_reacquire\u001b[0m\u001b[0;34m(\u001b[0m\u001b[0mresult\u001b[0m\u001b[0;34m.\u001b[0m\u001b[0mtransaction\u001b[0m\u001b[0;34m)\u001b[0m\u001b[0;34m\u001b[0m\u001b[0;34m\u001b[0m\u001b[0m\n\u001b[1;32m   1433\u001b[0m         \u001b[0;32mtry\u001b[0m\u001b[0;34m:\u001b[0m\u001b[0;34m\u001b[0m\u001b[0;34m\u001b[0m\u001b[0m\n\u001b[0;32m-> 1434\u001b[0;31m             \u001b[0mcx\u001b[0m\u001b[0;34m.\u001b[0m\u001b[0mpull\u001b[0m\u001b[0;34m(\u001b[0m\u001b[0mresult\u001b[0m\u001b[0;34m,\u001b[0m \u001b[0mn\u001b[0m\u001b[0;34m=\u001b[0m\u001b[0mn\u001b[0m\u001b[0;34m)\u001b[0m\u001b[0;34m\u001b[0m\u001b[0;34m\u001b[0m\u001b[0m\n\u001b[0m\u001b[1;32m   1435\u001b[0m         \u001b[0;32mexcept\u001b[0m \u001b[0;34m(\u001b[0m\u001b[0mConnectionUnavailable\u001b[0m\u001b[0;34m,\u001b[0m \u001b[0mConnectionBroken\u001b[0m\u001b[0;34m)\u001b[0m\u001b[0;34m:\u001b[0m\u001b[0;34m\u001b[0m\u001b[0;34m\u001b[0m\u001b[0m\n\u001b[1;32m   1436\u001b[0m             \u001b[0mself\u001b[0m\u001b[0;34m.\u001b[0m\u001b[0mprune\u001b[0m\u001b[0;34m(\u001b[0m\u001b[0mcx\u001b[0m\u001b[0;34m.\u001b[0m\u001b[0mprofile\u001b[0m\u001b[0;34m)\u001b[0m\u001b[0;34m\u001b[0m\u001b[0;34m\u001b[0m\u001b[0m\n",
            "\u001b[0;32m/usr/local/lib/python3.9/dist-packages/py2neo/client/bolt.py\u001b[0m in \u001b[0;36mpull\u001b[0;34m(self, result, n, capacity)\u001b[0m\n\u001b[1;32m    999\u001b[0m                                         \"during pull\"), error)\n\u001b[1;32m   1000\u001b[0m         \u001b[0;32melse\u001b[0m\u001b[0;34m:\u001b[0m\u001b[0;34m\u001b[0m\u001b[0;34m\u001b[0m\u001b[0m\n\u001b[0;32m-> 1001\u001b[0;31m             \u001b[0mself\u001b[0m\u001b[0;34m.\u001b[0m\u001b[0m_audit\u001b[0m\u001b[0;34m(\u001b[0m\u001b[0mself\u001b[0m\u001b[0;34m.\u001b[0m\u001b[0m_transaction\u001b[0m\u001b[0;34m)\u001b[0m\u001b[0;34m\u001b[0m\u001b[0;34m\u001b[0m\u001b[0m\n\u001b[0m\u001b[1;32m   1002\u001b[0m             \u001b[0;32mreturn\u001b[0m \u001b[0mresponse\u001b[0m\u001b[0;34m\u001b[0m\u001b[0;34m\u001b[0m\u001b[0m\n\u001b[1;32m   1003\u001b[0m \u001b[0;34m\u001b[0m\u001b[0m\n",
            "\u001b[0;32m/usr/local/lib/python3.9/dist-packages/py2neo/client/bolt.py\u001b[0m in \u001b[0;36m_audit\u001b[0;34m(self, task)\u001b[0m\n\u001b[1;32m    808\u001b[0m             \u001b[0;32mreturn\u001b[0m\u001b[0;34m\u001b[0m\u001b[0;34m\u001b[0m\u001b[0m\n\u001b[1;32m    809\u001b[0m         \u001b[0;32mtry\u001b[0m\u001b[0;34m:\u001b[0m\u001b[0;34m\u001b[0m\u001b[0;34m\u001b[0m\u001b[0m\n\u001b[0;32m--> 810\u001b[0;31m             \u001b[0mtask\u001b[0m\u001b[0;34m.\u001b[0m\u001b[0maudit\u001b[0m\u001b[0;34m(\u001b[0m\u001b[0;34m)\u001b[0m\u001b[0;34m\u001b[0m\u001b[0;34m\u001b[0m\u001b[0m\n\u001b[0m\u001b[1;32m    811\u001b[0m         \u001b[0;32mexcept\u001b[0m \u001b[0mNeo4jError\u001b[0m\u001b[0;34m:\u001b[0m\u001b[0;34m\u001b[0m\u001b[0;34m\u001b[0m\u001b[0m\n\u001b[1;32m    812\u001b[0m             \u001b[0mself\u001b[0m\u001b[0;34m.\u001b[0m\u001b[0mreset\u001b[0m\u001b[0;34m(\u001b[0m\u001b[0mforce\u001b[0m\u001b[0;34m=\u001b[0m\u001b[0;32mTrue\u001b[0m\u001b[0;34m)\u001b[0m\u001b[0;34m\u001b[0m\u001b[0;34m\u001b[0m\u001b[0m\n",
            "\u001b[0;32m/usr/local/lib/python3.9/dist-packages/py2neo/client/bolt.py\u001b[0m in \u001b[0;36maudit\u001b[0;34m(self)\u001b[0m\n\u001b[1;32m   1138\u001b[0m     \u001b[0;32mdef\u001b[0m \u001b[0maudit\u001b[0m\u001b[0;34m(\u001b[0m\u001b[0mself\u001b[0m\u001b[0;34m)\u001b[0m\u001b[0;34m:\u001b[0m\u001b[0;34m\u001b[0m\u001b[0;34m\u001b[0m\u001b[0m\n\u001b[1;32m   1139\u001b[0m         \u001b[0;32mfor\u001b[0m \u001b[0mitem\u001b[0m \u001b[0;32min\u001b[0m \u001b[0mself\u001b[0m\u001b[0;34m.\u001b[0m\u001b[0m_items\u001b[0m\u001b[0;34m:\u001b[0m\u001b[0;34m\u001b[0m\u001b[0;34m\u001b[0m\u001b[0m\n\u001b[0;32m-> 1140\u001b[0;31m             \u001b[0mitem\u001b[0m\u001b[0;34m.\u001b[0m\u001b[0maudit\u001b[0m\u001b[0;34m(\u001b[0m\u001b[0;34m)\u001b[0m\u001b[0;34m\u001b[0m\u001b[0;34m\u001b[0m\u001b[0m\n\u001b[0m\u001b[1;32m   1141\u001b[0m \u001b[0;34m\u001b[0m\u001b[0m\n\u001b[1;32m   1142\u001b[0m \u001b[0;34m\u001b[0m\u001b[0m\n",
            "\u001b[0;32m/usr/local/lib/python3.9/dist-packages/py2neo/client/bolt.py\u001b[0m in \u001b[0;36maudit\u001b[0;34m(self)\u001b[0m\n\u001b[1;32m   1138\u001b[0m     \u001b[0;32mdef\u001b[0m \u001b[0maudit\u001b[0m\u001b[0;34m(\u001b[0m\u001b[0mself\u001b[0m\u001b[0;34m)\u001b[0m\u001b[0;34m:\u001b[0m\u001b[0;34m\u001b[0m\u001b[0;34m\u001b[0m\u001b[0m\n\u001b[1;32m   1139\u001b[0m         \u001b[0;32mfor\u001b[0m \u001b[0mitem\u001b[0m \u001b[0;32min\u001b[0m \u001b[0mself\u001b[0m\u001b[0;34m.\u001b[0m\u001b[0m_items\u001b[0m\u001b[0;34m:\u001b[0m\u001b[0;34m\u001b[0m\u001b[0;34m\u001b[0m\u001b[0m\n\u001b[0;32m-> 1140\u001b[0;31m             \u001b[0mitem\u001b[0m\u001b[0;34m.\u001b[0m\u001b[0maudit\u001b[0m\u001b[0;34m(\u001b[0m\u001b[0;34m)\u001b[0m\u001b[0;34m\u001b[0m\u001b[0;34m\u001b[0m\u001b[0m\n\u001b[0m\u001b[1;32m   1141\u001b[0m \u001b[0;34m\u001b[0m\u001b[0m\n\u001b[1;32m   1142\u001b[0m \u001b[0;34m\u001b[0m\u001b[0m\n",
            "\u001b[0;32m/usr/local/lib/python3.9/dist-packages/py2neo/client/bolt.py\u001b[0m in \u001b[0;36maudit\u001b[0;34m(self)\u001b[0m\n\u001b[1;32m   1301\u001b[0m         \u001b[0;32mif\u001b[0m \u001b[0mself\u001b[0m\u001b[0;34m.\u001b[0m\u001b[0m_failure\u001b[0m\u001b[0;34m:\u001b[0m\u001b[0;34m\u001b[0m\u001b[0;34m\u001b[0m\u001b[0m\n\u001b[1;32m   1302\u001b[0m             \u001b[0mself\u001b[0m\u001b[0;34m.\u001b[0m\u001b[0mset_ignored\u001b[0m\u001b[0;34m(\u001b[0m\u001b[0;34m)\u001b[0m\u001b[0;34m\u001b[0m\u001b[0;34m\u001b[0m\u001b[0m\n\u001b[0;32m-> 1303\u001b[0;31m             \u001b[0;32mraise\u001b[0m \u001b[0mself\u001b[0m\u001b[0;34m.\u001b[0m\u001b[0m_failure\u001b[0m\u001b[0;34m\u001b[0m\u001b[0;34m\u001b[0m\u001b[0m\n\u001b[0m\u001b[1;32m   1304\u001b[0m \u001b[0;34m\u001b[0m\u001b[0m\n\u001b[1;32m   1305\u001b[0m     \u001b[0;34m@\u001b[0m\u001b[0mproperty\u001b[0m\u001b[0;34m\u001b[0m\u001b[0;34m\u001b[0m\u001b[0m\n",
            "\u001b[0;31mClientError\u001b[0m: [Statement.SyntaxError] Invalid input 'LIMIT': expected\n  \",\"\n  \"CALL\"\n  \"CREATE\"\n  \"DELETE\"\n  \"DETACH\"\n  \"FOREACH\"\n  \"LOAD\"\n  \"MATCH\"\n  \"MERGE\"\n  \"OPTIONAL\"\n  \"REMOVE\"\n  \"RETURN\"\n  \"SET\"\n  \"UNION\"\n  \"UNWIND\"\n  \"USE\"\n  \"USING\"\n  \"WHERE\"\n  \"WITH\"\n  <EOF> (line 3, column 1 (offset: 12))\n\"LIMIT 100\"\n ^"
          ]
        }
      ]
    },
    {
      "cell_type": "code",
      "source": [
        "query = \"\"\"\n",
        "RETURN apoc.version() AS output;\n",
        "\"\"\" \n",
        "\n",
        "result = graph.run(query)\n",
        "print(result)\n",
        "\n",
        " "
      ],
      "metadata": {
        "colab": {
          "base_uri": "https://localhost:8080/"
        },
        "id": "l7zkeReXgSCH",
        "outputId": "715f8a80-e012-4c8a-c2a5-835bc3a891aa"
      },
      "execution_count": 15,
      "outputs": [
        {
          "output_type": "stream",
          "name": "stdout",
          "text": [
            " output   \r\n",
            "----------\r\n",
            " 4.4.0.13 \r\n",
            "\n"
          ]
        }
      ]
    },
    {
      "cell_type": "markdown",
      "source": [
        "Centrality Analytics :\n",
        "\n",
        "---\n",
        "\n"
      ],
      "metadata": {
        "id": "ugA9PBKRD3dP"
      }
    },
    {
      "cell_type": "markdown",
      "source": [],
      "metadata": {
        "id": "A6qPPnjjEHMB"
      }
    },
    {
      "cell_type": "code",
      "source": [],
      "metadata": {
        "id": "xZdtU_AEEGsZ"
      },
      "execution_count": null,
      "outputs": []
    },
    {
      "cell_type": "code",
      "source": [],
      "metadata": {
        "id": "Narxpj7eg47D"
      },
      "execution_count": null,
      "outputs": []
    },
    {
      "cell_type": "markdown",
      "source": [
        "Community Analytics :\n",
        "\n",
        "---\n",
        "\n"
      ],
      "metadata": {
        "id": "W2bw2KgYELU4"
      }
    },
    {
      "cell_type": "code",
      "source": [],
      "metadata": {
        "id": "6Juv_NnvERN_"
      },
      "execution_count": null,
      "outputs": []
    }
  ]
}