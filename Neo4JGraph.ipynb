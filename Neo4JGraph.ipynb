{
  "nbformat": 4,
  "nbformat_minor": 0,
  "metadata": {
    "colab": {
      "provenance": [],
      "authorship_tag": "ABX9TyMb17LSpUbzA/WcpBCn3TRa",
      "include_colab_link": true
    },
    "kernelspec": {
      "name": "python3",
      "display_name": "Python 3"
    },
    "language_info": {
      "name": "python"
    }
  },
  "cells": [
    {
      "cell_type": "markdown",
      "metadata": {
        "id": "view-in-github",
        "colab_type": "text"
      },
      "source": [
        "<a href=\"https://colab.research.google.com/github/NathVM/GA/blob/main/Neo4JGraph.ipynb\" target=\"_parent\"><img src=\"https://colab.research.google.com/assets/colab-badge.svg\" alt=\"Open In Colab\"/></a>"
      ]
    },
    {
      "cell_type": "markdown",
      "source": [
        "# Measuring performance of Graph Analytics Algorithms using Neo4j graphs\n",
        "\n",
        "---\n",
        "\n"
      ],
      "metadata": {
        "id": "WYVsJ5wy3fmK"
      }
    },
    {
      "cell_type": "markdown",
      "source": [
        "Imports:\n",
        "\n",
        "---\n",
        "\n"
      ],
      "metadata": {
        "id": "xyENnxE878Sc"
      }
    },
    {
      "cell_type": "code",
      "execution_count": 1,
      "metadata": {
        "id": "20eP-Dti2h3F"
      },
      "outputs": [],
      "source": [
        "import pandas as pd\n",
        "from py2neo import Graph, Node, Relationship\n",
        "from neo4j import GraphDatabase\n",
        "from google.colab import drive"
      ]
    },
    {
      "cell_type": "markdown",
      "source": [
        "Setup:\n",
        "\n",
        "---\n",
        "\n"
      ],
      "metadata": {
        "id": "C0__UYi974Bz"
      }
    },
    {
      "cell_type": "code",
      "source": [
        "drive.mount('/content/drive')\n",
        "\n",
        "!tar -xf /content/drive/MyDrive/Dataset/share/GA/neo4j.tar  # or --strip-components=1\n",
        "!mv neo4j-community-3.5.8 nj\n",
        "# disable password, and start server\n",
        "!sed -i '/#dbms.security.auth_enabled/s/^#//g' nj/conf/neo4j.conf\n",
        "!nj/bin/neo4j start\n",
        "\n",
        "!pip install py2neo"
      ],
      "metadata": {
        "id": "atyLHvFZ73Re",
        "colab": {
          "base_uri": "https://localhost:8080/"
        },
        "outputId": "d1000af5-f957-43b1-d39c-302c097839a0"
      },
      "execution_count": 2,
      "outputs": [
        {
          "output_type": "stream",
          "name": "stdout",
          "text": [
            "Drive already mounted at /content/drive; to attempt to forcibly remount, call drive.mount(\"/content/drive\", force_remount=True).\n",
            "mv: cannot move 'neo4j-community-3.5.8' to 'nj/neo4j-community-3.5.8': Directory not empty\n",
            "WARNING! You are using an unsupported Java runtime. \n",
            "* Please use Oracle(R) Java(TM) 8, OpenJDK(TM) or IBM J9 to run Neo4j.\n",
            "* Please see https://neo4j.com/docs/ for Neo4j installation instructions.\n",
            "Active database: graph.db\n",
            "Directories in use:\n",
            "  home:         /content/nj\n",
            "  config:       /content/nj/conf\n",
            "  logs:         /content/nj/logs\n",
            "  plugins:      /content/nj/plugins\n",
            "  import:       /content/nj/import\n",
            "  data:         /content/nj/data\n",
            "  certificates: /content/nj/certificates\n",
            "  run:          /content/nj/run\n",
            "Neo4j is already running (pid 71565).\n",
            "Looking in indexes: https://pypi.org/simple, https://us-python.pkg.dev/colab-wheels/public/simple/\n",
            "Requirement already satisfied: py2neo in /usr/local/lib/python3.9/dist-packages (2021.2.3)\n",
            "Requirement already satisfied: packaging in /usr/local/lib/python3.9/dist-packages (from py2neo) (23.0)\n",
            "Requirement already satisfied: certifi in /usr/local/lib/python3.9/dist-packages (from py2neo) (2022.12.7)\n",
            "Requirement already satisfied: pansi>=2020.7.3 in /usr/local/lib/python3.9/dist-packages (from py2neo) (2020.7.3)\n",
            "Requirement already satisfied: six>=1.15.0 in /usr/local/lib/python3.9/dist-packages (from py2neo) (1.16.0)\n",
            "Requirement already satisfied: interchange~=2021.0.4 in /usr/local/lib/python3.9/dist-packages (from py2neo) (2021.0.4)\n",
            "Requirement already satisfied: urllib3 in /usr/local/lib/python3.9/dist-packages (from py2neo) (1.26.15)\n",
            "Requirement already satisfied: monotonic in /usr/local/lib/python3.9/dist-packages (from py2neo) (1.6)\n",
            "Requirement already satisfied: pygments>=2.0.0 in /usr/local/lib/python3.9/dist-packages (from py2neo) (2.14.0)\n",
            "Requirement already satisfied: pytz in /usr/local/lib/python3.9/dist-packages (from interchange~=2021.0.4->py2neo) (2022.7.1)\n"
          ]
        }
      ]
    },
    {
      "cell_type": "markdown",
      "source": [
        "Neo4j connection:\n",
        "\n",
        "---\n",
        "\n"
      ],
      "metadata": {
        "id": "OyfRtpqoAycX"
      }
    },
    {
      "cell_type": "code",
      "source": [
        "graph = Graph(\"bolt://localhost:7687\")\n",
        "driver = GraphDatabase.driver(\"bolt://localhost:7687\")"
      ],
      "metadata": {
        "id": "ND_V032iAyFV"
      },
      "execution_count": 3,
      "outputs": []
    },
    {
      "cell_type": "markdown",
      "source": [
        "Dataset: \n",
        "\n",
        "https://networkrepository.com/TWITTER-Real-Graph-Partial.php\n",
        "\n",
        "Shared in the google drive "
      ],
      "metadata": {
        "id": "vrPtAWc-ROCT"
      }
    },
    {
      "cell_type": "code",
      "source": [
        "# Map the shared folder \n",
        "# https://drive.google.com/drive/folders/113gZK1io1MZGogAULYoBdrlEUHyJcxRh?usp=sharing \n",
        "# to your google drive and modify the file path accordingly\n",
        "file = \"/content/drive/MyDrive/Dataset/share/GA/TWITTER-Real-Graph-Partial.edges\"\n",
        "df = pd.read_csv(file)\n",
        "df.rename(columns = {'1':'source', '2':'target'}, inplace = True)\n",
        "print(df.head(5))\n",
        "dft = df"
      ],
      "metadata": {
        "colab": {
          "base_uri": "https://localhost:8080/"
        },
        "id": "_xMVY20GR09j",
        "outputId": "f5ca8d3e-7f6c-41b4-f790-5539445ecf4f"
      },
      "execution_count": 4,
      "outputs": [
        {
          "output_type": "stream",
          "name": "stdout",
          "text": [
            "   source  target\n",
            "0       2       1\n",
            "1       3       4\n",
            "2       4       3\n",
            "3       3       2\n",
            "4       2       3\n"
          ]
        }
      ]
    },
    {
      "cell_type": "markdown",
      "source": [
        "Create Graph :"
      ],
      "metadata": {
        "id": "5LRZ1NfTXZ3r"
      }
    },
    {
      "cell_type": "code",
      "source": [
        "#Please comment the below line to execute the cell\n",
        "%%script echo skipping\n",
        "query = \"\"\"\n",
        "WITH $rows AS rows\n",
        "UNWIND rows AS row\n",
        "MERGE (source:Node {id: row.source})\n",
        "MERGE (target:Node {id: row.target})\n",
        "MERGE (source)-[:CONNECTS_TO]-(target)\n",
        "\"\"\"\n",
        "\n",
        "# set batch size and index properties\n",
        "batch_size = 1000\n",
        "index_properties = ['id']\n",
        "\n",
        "# create indexes on node properties\n",
        "with driver.session() as session:\n",
        "    for property_name in index_properties:\n",
        "        session.run(f\"CREATE INDEX ON :Node({property_name})\")\n",
        "\n",
        "# execute the query in batch transactions\n",
        "with driver.session() as session:\n",
        "    for i in range(0, len(dft), batch_size):\n",
        "        batch = dft[i:i+batch_size].to_dict('records')\n",
        "        session.run(query, rows=batch)"
      ],
      "metadata": {
        "id": "JP_AZPagUbDs"
      },
      "execution_count": 5,
      "outputs": []
    },
    {
      "cell_type": "code",
      "source": [],
      "metadata": {
        "id": "yKD77OrO7Xcv"
      },
      "execution_count": 5,
      "outputs": []
    },
    {
      "cell_type": "markdown",
      "source": [
        "Path Analytics: \n",
        "\n",
        "---\n",
        "\n"
      ],
      "metadata": {
        "id": "zdFzB4sRD0ch"
      }
    },
    {
      "cell_type": "code",
      "source": [
        "query = \"\"\"\n",
        "MATCH (source:Node {id: 357908})\n",
        "MATCH (destination:Node)\n",
        "WHERE source <> destination\n",
        "MATCH path = allshortestPaths((source)-[:CONNECTS_TO*]-(destination))\n",
        "WITH source, destination, reduce(distance = 0, r in relationships(path) | distance + 1) AS distance, nodes(path) AS nodes\n",
        "RETURN source.id, destination.id, distance, nodes, COLLECT( DISTINCT nodes)\n",
        "\"\"\"\n",
        "result = graph.run(query)\n",
        "\n",
        "for record in result:\n",
        "  nodes = record[\"nodes\"]\n",
        "  print ([node[\"id\"] for node in nodes])"
      ],
      "metadata": {
        "id": "VlKuFlIijOCQ",
        "colab": {
          "base_uri": "https://localhost:8080/"
        },
        "outputId": "4e412734-6e76-402b-d51d-c3a1fc2051b8"
      },
      "execution_count": 10,
      "outputs": [
        {
          "output_type": "stream",
          "name": "stdout",
          "text": [
            "[357908, 357909]\n",
            "[357908, 357911]\n",
            "[357908, 357910]\n"
          ]
        }
      ]
    },
    {
      "cell_type": "markdown",
      "source": [
        "Centrality Analytics :\n",
        "\n",
        "---\n",
        "\n"
      ],
      "metadata": {
        "id": "ugA9PBKRD3dP"
      }
    },
    {
      "cell_type": "markdown",
      "source": [],
      "metadata": {
        "id": "A6qPPnjjEHMB"
      }
    },
    {
      "cell_type": "code",
      "source": [],
      "metadata": {
        "id": "xZdtU_AEEGsZ"
      },
      "execution_count": null,
      "outputs": []
    },
    {
      "cell_type": "markdown",
      "source": [
        "Community Analytics :\n",
        "\n",
        "---\n",
        "\n"
      ],
      "metadata": {
        "id": "W2bw2KgYELU4"
      }
    },
    {
      "cell_type": "code",
      "source": [],
      "metadata": {
        "id": "6Juv_NnvERN_"
      },
      "execution_count": null,
      "outputs": []
    }
  ]
}