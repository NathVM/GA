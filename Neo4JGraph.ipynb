{
  "nbformat": 4,
  "nbformat_minor": 0,
  "metadata": {
    "colab": {
      "provenance": [],
      "authorship_tag": "ABX9TyNKZrTB+/RaXfyLsdyXdgho",
      "include_colab_link": true
    },
    "kernelspec": {
      "name": "python3",
      "display_name": "Python 3"
    },
    "language_info": {
      "name": "python"
    }
  },
  "cells": [
    {
      "cell_type": "markdown",
      "metadata": {
        "id": "view-in-github",
        "colab_type": "text"
      },
      "source": [
        "<a href=\"https://colab.research.google.com/github/NathVM/GA/blob/main/Neo4JGraph.ipynb\" target=\"_parent\"><img src=\"https://colab.research.google.com/assets/colab-badge.svg\" alt=\"Open In Colab\"/></a>"
      ]
    },
    {
      "cell_type": "markdown",
      "source": [
        "# Measuring performance of Graph Analytics Algorithms using Node4j graphs\n",
        "\n",
        "---\n",
        "\n"
      ],
      "metadata": {
        "id": "WYVsJ5wy3fmK"
      }
    },
    {
      "cell_type": "markdown",
      "source": [
        "Setup:\n",
        "\n",
        "---\n",
        "\n"
      ],
      "metadata": {
        "id": "C0__UYi974Bz"
      }
    },
    {
      "cell_type": "code",
      "source": [
        "!pip install neo4j"
      ],
      "metadata": {
        "id": "atyLHvFZ73Re"
      },
      "execution_count": null,
      "outputs": []
    },
    {
      "cell_type": "markdown",
      "source": [
        "Imports:\n",
        "\n",
        "---\n",
        "\n"
      ],
      "metadata": {
        "id": "xyENnxE878Sc"
      }
    },
    {
      "cell_type": "code",
      "execution_count": 2,
      "metadata": {
        "id": "20eP-Dti2h3F"
      },
      "outputs": [],
      "source": [
        "import pandas as pd\n",
        "from neo4j import GraphDatabase, basic_auth"
      ]
    },
    {
      "cell_type": "markdown",
      "source": [
        "Neo4j connection:\n",
        "\n",
        "---\n",
        "\n"
      ],
      "metadata": {
        "id": "OyfRtpqoAycX"
      }
    },
    {
      "cell_type": "code",
      "source": [
        "driver = GraphDatabase.driver(\n",
        "  \"bolt://44.203.104.228:7687\",\n",
        "  auth=basic_auth(\"neo4j\", \"rollouts-orifices-basin\"))"
      ],
      "metadata": {
        "id": "ND_V032iAyFV"
      },
      "execution_count": 3,
      "outputs": []
    },
    {
      "cell_type": "markdown",
      "source": [
        "\n",
        "\n",
        "---\n",
        "\n"
      ],
      "metadata": {
        "id": "2YLhz_d-Cdnh"
      }
    },
    {
      "cell_type": "code",
      "source": [
        "def run_query(query, parameters = {}):\n",
        "    with driver.session(database=\"neo4j\") as session:\n",
        "        result = session.run(query,parameters)\n",
        "        return pd.DataFrame([r.values() for r in result], columns=result.keys())\n",
        "\n",
        "\n",
        "cypher_query = '''\n",
        "MATCH (n)\n",
        "RETURN COUNT(n) AS count\n",
        "LIMIT $limit\n",
        "'''"
      ],
      "metadata": {
        "colab": {
          "base_uri": "https://localhost:8080/"
        },
        "id": "4tEdC2J-BjZ1",
        "outputId": "2da44bba-eace-45c9-abf7-a27a40e1b23f"
      },
      "execution_count": 7,
      "outputs": [
        {
          "output_type": "stream",
          "name": "stderr",
          "text": [
            "<ipython-input-7-0d6fdcc241b1>:13: DeprecationWarning: read_transaction has been renamed to execute_read\n",
            "  results = session.read_transaction(\n"
          ]
        },
        {
          "output_type": "stream",
          "name": "stdout",
          "text": [
            "0\n"
          ]
        }
      ]
    },
    {
      "cell_type": "markdown",
      "source": [
        "Dataset: "
      ],
      "metadata": {
        "id": "vrPtAWc-ROCT"
      }
    },
    {
      "cell_type": "code",
      "source": [],
      "metadata": {
        "id": "_xMVY20GR09j"
      },
      "execution_count": null,
      "outputs": []
    }
  ]
}